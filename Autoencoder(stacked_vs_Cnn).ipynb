{
  "nbformat": 4,
  "nbformat_minor": 0,
  "metadata": {
    "colab": {
      "name": "Autoencoder(stacked vs cnn).ipynb",
      "version": "0.3.2",
      "provenance": [],
      "collapsed_sections": [],
      "include_colab_link": true
    },
    "kernelspec": {
      "name": "python3",
      "display_name": "Python 3"
    },
    "accelerator": "GPU"
  },
  "cells": [
    {
      "cell_type": "markdown",
      "metadata": {
        "id": "view-in-github",
        "colab_type": "text"
      },
      "source": [
        "<a href=\"https://colab.research.google.com/github/bamboo0727/Neural-Network-Model/blob/master/Autoencoder(stacked_vs_Cnn).ipynb\" target=\"_parent\"><img src=\"https://colab.research.google.com/assets/colab-badge.svg\" alt=\"Open In Colab\"/></a>"
      ]
    },
    {
      "metadata": {
        "id": "2vtKx-Iafqvx",
        "colab_type": "text"
      },
      "cell_type": "markdown",
      "source": [
        "# Fashion MNIST Autoencoder\n",
        "### Directives\n",
        "* Create the autoencoders described below, you can play with the topology, those are just starting points\n",
        "* Use GPU runtime\n",
        "* Print 10 inputs and their associated outputs\n",
        "* Don't forget to normalize your data\n",
        "* Use the Functional API for Keras\n",
        "* Plot the model loss over time\n",
        "\n",
        "### Autoencoders to build\n",
        "1. Stacked\n",
        "2. Convolutional Encoder\n",
        "\n",
        "#### Don't worry if the data you generate looks bad. This is just an exercise, we can't really measure performance on an unsupervised task"
      ]
    },
    {
      "metadata": {
        "id": "DERbDQFnyQYT",
        "colab_type": "code",
        "colab": {}
      },
      "cell_type": "code",
      "source": [
        ""
      ],
      "execution_count": 0,
      "outputs": []
    },
    {
      "metadata": {
        "id": "Y3oP_kEffiFK",
        "colab_type": "code",
        "outputId": "515f9e86-dbab-4cd3-a807-16bde3d51c82",
        "colab": {
          "base_uri": "https://localhost:8080/",
          "height": 51
        }
      },
      "cell_type": "code",
      "source": [
        "from keras.datasets import fashion_mnist\n",
        "\n",
        "from __future__ import absolute_import, division, print_function\n",
        "\n",
        "# TensorFlow and tf.keras\n",
        "import tensorflow as tf\n",
        "from tensorflow import keras\n",
        "\n",
        "# Helper libraries\n",
        "import numpy as np\n",
        "import matplotlib.pyplot as plt\n",
        "from matplotlib import pyplot\n",
        "\n",
        "\n",
        "print(tf.__version__)\n",
        "(X_train, train_label), (X_test, test_label) = fashion_mnist.load_data()\n",
        "all_data = np.concatenate((X_train, X_test))\n",
        "all_data.shape"
      ],
      "execution_count": 0,
      "outputs": [
        {
          "output_type": "stream",
          "text": [
            "1.13.1\n"
          ],
          "name": "stdout"
        },
        {
          "output_type": "execute_result",
          "data": {
            "text/plain": [
              "(70000, 28, 28)"
            ]
          },
          "metadata": {
            "tags": []
          },
          "execution_count": 9
        }
      ]
    },
    {
      "metadata": {
        "id": "_p3-c07wBXh4",
        "colab_type": "code",
        "outputId": "a4a72322-ee5d-4f7b-f471-e571dba54b52",
        "colab": {
          "base_uri": "https://localhost:8080/",
          "height": 34
        }
      },
      "cell_type": "code",
      "source": [
        "X_test.shape"
      ],
      "execution_count": 0,
      "outputs": [
        {
          "output_type": "execute_result",
          "data": {
            "text/plain": [
              "(10000, 28, 28)"
            ]
          },
          "metadata": {
            "tags": []
          },
          "execution_count": 10
        }
      ]
    },
    {
      "metadata": {
        "id": "NTWicY38gNF1",
        "colab_type": "code",
        "colab": {}
      },
      "cell_type": "code",
      "source": [
        "def print_first_9(data):\n",
        "  fig = plt.figure()\n",
        "  for i in range(9):\n",
        "    plt.subplot(3,3,i+1)\n",
        "    plt.tight_layout()\n",
        "    plt.imshow(data[i], interpolation='none')\n",
        "    plt.title(\"Digit: {}\".format(i))\n",
        "    plt.xticks([])\n",
        "    plt.yticks([])"
      ],
      "execution_count": 0,
      "outputs": []
    },
    {
      "metadata": {
        "id": "ZBn4aAgLgROq",
        "colab_type": "code",
        "outputId": "dcd9e777-70c5-42ef-d278-995e91ccbfa8",
        "colab": {
          "base_uri": "https://localhost:8080/",
          "height": 284
        }
      },
      "cell_type": "code",
      "source": [
        "print_first_9(all_data[-9:])"
      ],
      "execution_count": 0,
      "outputs": [
        {
          "output_type": "display_data",
          "data": {
            "image/png": "[encoded data removed]",
            "text/plain": [
              "<Figure size 432x288 with 9 Axes>"
            ]
          },
          "metadata": {
            "tags": []
          }
        }
      ]
    },
    {
      "metadata": {
        "id": "I1vYVa8FgTmh",
        "colab_type": "code",
        "colab": {}
      },
      "cell_type": "code",
      "source": [
        "class_names = ['T-shirt/top', 'Trouser', 'Pullover', 'Dress', 'Coat', \n",
        "               'Sandal', 'Shirt', 'Sneaker', 'Bag', 'Ankle boot']"
      ],
      "execution_count": 0,
      "outputs": []
    },
    {
      "metadata": {
        "id": "Btn76Yhd-kDc",
        "colab_type": "code",
        "outputId": "5f0db11d-fc78-4c60-bb72-11a7bb262ccb",
        "colab": {
          "base_uri": "https://localhost:8080/",
          "height": 143
        }
      },
      "cell_type": "code",
      "source": [
        "plt.figure(figsize=(20,20))\n",
        "for i in range(10):\n",
        "    plt.subplot(1,10,i+1)\n",
        "    plt.xticks([])\n",
        "    plt.yticks([])\n",
        "    plt.grid(False)\n",
        "    plt.imshow(X_train[i])\n",
        "    plt.xlabel(class_names[train_label[i]])\n",
        "\n",
        "plt.show()\n"
      ],
      "execution_count": 0,
      "outputs": [
        {
          "output_type": "display_data",
          "data": {
            "image/png": "[encoded data removed]",
            "text/plain": [
              "<Figure size 1440x1440 with 10 Axes>"
            ]
          },
          "metadata": {
            "tags": []
          }
        }
      ]
    },
    {
      "metadata": {
        "id": "YezqAFCkrzqv",
        "colab_type": "code",
        "colab": {}
      },
      "cell_type": "code",
      "source": [
        "\n",
        "X_train = X_train.astype('float32') / 255.\n",
        "X_test = X_test.astype('float32') / 255.\n"
      ],
      "execution_count": 0,
      "outputs": []
    },
    {
      "metadata": {
        "id": "GYLyv2-1iyjn",
        "colab_type": "code",
        "colab": {}
      },
      "cell_type": "code",
      "source": [
        "import keras\n",
        "from keras.models import Sequential\n",
        "from keras.layers import Dense, Dropout, Activation\n",
        "from keras.optimizers import SGD"
      ],
      "execution_count": 0,
      "outputs": []
    },
    {
      "metadata": {
        "id": "Mz6lXFJbyTEi",
        "colab_type": "code",
        "outputId": "8d62c55a-4456-4418-ec2c-ebca4d16d4d2",
        "colab": {
          "base_uri": "https://localhost:8080/",
          "height": 88
        }
      },
      "cell_type": "code",
      "source": [
        "model = keras.Sequential([\n",
        "    keras.layers.Flatten(input_shape=(28, 28)),\n",
        "    keras.layers.Dense(128, activation=tf.nn.relu),\n",
        "    keras.layers.Dropout(0.25),\n",
        "    keras.layers.Dense(10, activation=tf.nn.softmax)\n",
        "])"
      ],
      "execution_count": 0,
      "outputs": [
        {
          "output_type": "stream",
          "text": [
            "WARNING:tensorflow:From /usr/local/lib/python3.6/dist-packages/keras/backend/tensorflow_backend.py:3445: calling dropout (from tensorflow.python.ops.nn_ops) with keep_prob is deprecated and will be removed in a future version.\n",
            "Instructions for updating:\n",
            "Please use `rate` instead of `keep_prob`. Rate should be set to `rate = 1 - keep_prob`.\n"
          ],
          "name": "stdout"
        }
      ]
    },
    {
      "metadata": {
        "id": "Iz1KvpgYytCp",
        "colab_type": "code",
        "colab": {}
      },
      "cell_type": "code",
      "source": [
        "model.compile(optimizer='adam', \n",
        "              loss='sparse_categorical_crossentropy',\n",
        "              metrics=['accuracy'])"
      ],
      "execution_count": 0,
      "outputs": []
    },
    {
      "metadata": {
        "id": "6eipmI9WzOMC",
        "colab_type": "code",
        "outputId": "219ccfd7-bd13-4205-a0bf-95fd131e971c",
        "colab": {
          "base_uri": "https://localhost:8080/",
          "height": 3468
        }
      },
      "cell_type": "code",
      "source": [
        "\n",
        "history=model.fit(X_train, train_label, epochs=100,batch_size=64,validation_split=0.2)\n",
        "test_loss, test_acc = model.evaluate(X_test, test_label)\n",
        "\n",
        "print('Test accuracy:', test_acc)"
      ],
      "execution_count": 0,
      "outputs": [
        {
          "output_type": "stream",
          "text": [
            "Train on 48000 samples, validate on 12000 samples\n",
            "Epoch 1/100\n",
            "48000/48000 [==============================] - 4s 78us/step - loss: 0.5961 - acc: 0.7894 - val_loss: 0.4509 - val_acc: 0.8359\n",
            "Epoch 2/100\n",
            "48000/48000 [==============================] - 2s 52us/step - loss: 0.4325 - acc: 0.8461 - val_loss: 0.3961 - val_acc: 0.8578\n",
            "Epoch 3/100\n",
            "48000/48000 [==============================] - 3s 52us/step - loss: 0.3936 - acc: 0.8600 - val_loss: 0.3644 - val_acc: 0.8694\n",
            "Epoch 4/100\n",
            "48000/48000 [==============================] - 3s 55us/step - loss: 0.3693 - acc: 0.8669 - val_loss: 0.3566 - val_acc: 0.8711\n",
            "Epoch 5/100\n",
            "48000/48000 [==============================] - 3s 59us/step - loss: 0.3503 - acc: 0.8733 - val_loss: 0.3470 - val_acc: 0.8744\n",
            "Epoch 6/100\n",
            "48000/48000 [==============================] - 3s 59us/step - loss: 0.3372 - acc: 0.8769 - val_loss: 0.3314 - val_acc: 0.8798\n",
            "Epoch 7/100\n",
            "48000/48000 [==============================] - 3s 60us/step - loss: 0.3256 - acc: 0.8812 - val_loss: 0.3371 - val_acc: 0.8801\n",
            "Epoch 8/100\n",
            "48000/48000 [==============================] - 2s 52us/step - loss: 0.3162 - acc: 0.8841 - val_loss: 0.3409 - val_acc: 0.8769\n",
            "Epoch 9/100\n",
            "48000/48000 [==============================] - 3s 52us/step - loss: 0.3106 - acc: 0.8859 - val_loss: 0.3250 - val_acc: 0.8817\n",
            "Epoch 10/100\n",
            "48000/48000 [==============================] - 2s 52us/step - loss: 0.3023 - acc: 0.8870 - val_loss: 0.3219 - val_acc: 0.8853\n",
            "Epoch 11/100\n",
            "48000/48000 [==============================] - 2s 51us/step - loss: 0.2909 - acc: 0.8919 - val_loss: 0.3135 - val_acc: 0.8858\n",
            "Epoch 12/100\n",
            "48000/48000 [==============================] - 2s 52us/step - loss: 0.2880 - acc: 0.8925 - val_loss: 0.3294 - val_acc: 0.8827\n",
            "Epoch 13/100\n",
            "48000/48000 [==============================] - 3s 52us/step - loss: 0.2804 - acc: 0.8961 - val_loss: 0.3243 - val_acc: 0.8815\n",
            "Epoch 14/100\n",
            "48000/48000 [==============================] - 2s 52us/step - loss: 0.2747 - acc: 0.8962 - val_loss: 0.3294 - val_acc: 0.8793\n",
            "Epoch 15/100\n",
            "48000/48000 [==============================] - 3s 52us/step - loss: 0.2713 - acc: 0.8984 - val_loss: 0.3225 - val_acc: 0.8838\n",
            "Epoch 16/100\n",
            "48000/48000 [==============================] - 2s 51us/step - loss: 0.2627 - acc: 0.9012 - val_loss: 0.3126 - val_acc: 0.8912\n",
            "Epoch 17/100\n",
            "48000/48000 [==============================] - 2s 52us/step - loss: 0.2611 - acc: 0.9022 - val_loss: 0.3189 - val_acc: 0.8881\n",
            "Epoch 18/100\n",
            "48000/48000 [==============================] - 2s 52us/step - loss: 0.2543 - acc: 0.9040 - val_loss: 0.3141 - val_acc: 0.8896\n",
            "Epoch 19/100\n",
            "48000/48000 [==============================] - 2s 52us/step - loss: 0.2533 - acc: 0.9042 - val_loss: 0.3213 - val_acc: 0.8838\n",
            "Epoch 20/100\n",
            "48000/48000 [==============================] - 2s 52us/step - loss: 0.2498 - acc: 0.9066 - val_loss: 0.3078 - val_acc: 0.8914\n",
            "Epoch 21/100\n",
            "48000/48000 [==============================] - 2s 51us/step - loss: 0.2444 - acc: 0.9081 - val_loss: 0.3149 - val_acc: 0.8895\n",
            "Epoch 22/100\n",
            "48000/48000 [==============================] - 2s 52us/step - loss: 0.2381 - acc: 0.9107 - val_loss: 0.3129 - val_acc: 0.8908\n",
            "Epoch 23/100\n",
            "48000/48000 [==============================] - 2s 51us/step - loss: 0.2365 - acc: 0.9103 - val_loss: 0.3120 - val_acc: 0.8915\n",
            "Epoch 24/100\n",
            "48000/48000 [==============================] - 2s 52us/step - loss: 0.2356 - acc: 0.9106 - val_loss: 0.3155 - val_acc: 0.8901\n",
            "Epoch 25/100\n",
            "48000/48000 [==============================] - 2s 51us/step - loss: 0.2312 - acc: 0.9127 - val_loss: 0.3137 - val_acc: 0.8916\n",
            "Epoch 26/100\n",
            "48000/48000 [==============================] - 2s 52us/step - loss: 0.2266 - acc: 0.9143 - val_loss: 0.3134 - val_acc: 0.8920\n",
            "Epoch 27/100\n",
            "48000/48000 [==============================] - 2s 52us/step - loss: 0.2229 - acc: 0.9169 - val_loss: 0.3154 - val_acc: 0.8923\n",
            "Epoch 28/100\n",
            "48000/48000 [==============================] - 2s 52us/step - loss: 0.2220 - acc: 0.9154 - val_loss: 0.3159 - val_acc: 0.8916\n",
            "Epoch 29/100\n",
            "48000/48000 [==============================] - 2s 52us/step - loss: 0.2190 - acc: 0.9174 - val_loss: 0.3256 - val_acc: 0.8910\n",
            "Epoch 30/100\n",
            "48000/48000 [==============================] - 2s 51us/step - loss: 0.2181 - acc: 0.9179 - val_loss: 0.3300 - val_acc: 0.8877\n",
            "Epoch 31/100\n",
            "48000/48000 [==============================] - 2s 51us/step - loss: 0.2131 - acc: 0.9185 - val_loss: 0.3175 - val_acc: 0.8908\n",
            "Epoch 32/100\n",
            "48000/48000 [==============================] - 2s 52us/step - loss: 0.2090 - acc: 0.9210 - val_loss: 0.3204 - val_acc: 0.8915\n",
            "Epoch 33/100\n",
            "48000/48000 [==============================] - 2s 52us/step - loss: 0.2109 - acc: 0.9199 - val_loss: 0.3267 - val_acc: 0.8912\n",
            "Epoch 34/100\n",
            "48000/48000 [==============================] - 2s 51us/step - loss: 0.2052 - acc: 0.9218 - val_loss: 0.3276 - val_acc: 0.8935\n",
            "Epoch 35/100\n",
            "48000/48000 [==============================] - 2s 51us/step - loss: 0.2000 - acc: 0.9238 - val_loss: 0.3214 - val_acc: 0.8942\n",
            "Epoch 36/100\n",
            "48000/48000 [==============================] - 3s 56us/step - loss: 0.2045 - acc: 0.9224 - val_loss: 0.3198 - val_acc: 0.8951\n",
            "Epoch 37/100\n",
            "48000/48000 [==============================] - 3s 60us/step - loss: 0.1992 - acc: 0.9228 - val_loss: 0.3444 - val_acc: 0.8873\n",
            "Epoch 38/100\n",
            "48000/48000 [==============================] - 3s 59us/step - loss: 0.1993 - acc: 0.9234 - val_loss: 0.3291 - val_acc: 0.8936\n",
            "Epoch 39/100\n",
            "48000/48000 [==============================] - 3s 59us/step - loss: 0.1958 - acc: 0.9248 - val_loss: 0.3325 - val_acc: 0.8951\n",
            "Epoch 40/100\n",
            "48000/48000 [==============================] - 2s 51us/step - loss: 0.1945 - acc: 0.9254 - val_loss: 0.3341 - val_acc: 0.8927\n",
            "Epoch 41/100\n",
            "48000/48000 [==============================] - 2s 52us/step - loss: 0.1921 - acc: 0.9269 - val_loss: 0.3442 - val_acc: 0.8898\n",
            "Epoch 42/100\n",
            "48000/48000 [==============================] - 2s 52us/step - loss: 0.1896 - acc: 0.9268 - val_loss: 0.3430 - val_acc: 0.8878\n",
            "Epoch 43/100\n",
            "48000/48000 [==============================] - 3s 52us/step - loss: 0.1902 - acc: 0.9271 - val_loss: 0.3366 - val_acc: 0.8941\n",
            "Epoch 44/100\n",
            "48000/48000 [==============================] - 2s 51us/step - loss: 0.1862 - acc: 0.9290 - val_loss: 0.3433 - val_acc: 0.8892\n",
            "Epoch 45/100\n",
            "48000/48000 [==============================] - 2s 52us/step - loss: 0.1862 - acc: 0.9297 - val_loss: 0.3492 - val_acc: 0.8878\n",
            "Epoch 46/100\n",
            "48000/48000 [==============================] - 2s 51us/step - loss: 0.1876 - acc: 0.9274 - val_loss: 0.3433 - val_acc: 0.8922\n",
            "Epoch 47/100\n",
            "48000/48000 [==============================] - 2s 51us/step - loss: 0.1836 - acc: 0.9290 - val_loss: 0.3401 - val_acc: 0.8931\n",
            "Epoch 48/100\n",
            "48000/48000 [==============================] - 2s 52us/step - loss: 0.1794 - acc: 0.9303 - val_loss: 0.3404 - val_acc: 0.8924\n",
            "Epoch 49/100\n",
            "48000/48000 [==============================] - 2s 51us/step - loss: 0.1775 - acc: 0.9312 - val_loss: 0.3430 - val_acc: 0.8931\n",
            "Epoch 50/100\n",
            "48000/48000 [==============================] - 2s 52us/step - loss: 0.1767 - acc: 0.9309 - val_loss: 0.3438 - val_acc: 0.8927\n",
            "Epoch 51/100\n",
            "48000/48000 [==============================] - 2s 51us/step - loss: 0.1749 - acc: 0.9328 - val_loss: 0.3366 - val_acc: 0.8960\n",
            "Epoch 52/100\n",
            "48000/48000 [==============================] - 2s 51us/step - loss: 0.1743 - acc: 0.9328 - val_loss: 0.3628 - val_acc: 0.8918\n",
            "Epoch 53/100\n",
            "48000/48000 [==============================] - 2s 52us/step - loss: 0.1760 - acc: 0.9325 - val_loss: 0.3429 - val_acc: 0.8900\n",
            "Epoch 54/100\n",
            "48000/48000 [==============================] - 2s 52us/step - loss: 0.1753 - acc: 0.9329 - val_loss: 0.3696 - val_acc: 0.8940\n",
            "Epoch 55/100\n",
            "48000/48000 [==============================] - 2s 52us/step - loss: 0.1730 - acc: 0.9331 - val_loss: 0.3539 - val_acc: 0.8944\n",
            "Epoch 56/100\n",
            "48000/48000 [==============================] - 2s 52us/step - loss: 0.1692 - acc: 0.9349 - val_loss: 0.3516 - val_acc: 0.8961\n",
            "Epoch 57/100\n",
            "48000/48000 [==============================] - 2s 52us/step - loss: 0.1669 - acc: 0.9358 - val_loss: 0.3570 - val_acc: 0.8953\n",
            "Epoch 58/100\n",
            "48000/48000 [==============================] - 2s 52us/step - loss: 0.1664 - acc: 0.9369 - val_loss: 0.3537 - val_acc: 0.8946\n",
            "Epoch 59/100\n",
            "48000/48000 [==============================] - 2s 51us/step - loss: 0.1656 - acc: 0.9366 - val_loss: 0.3486 - val_acc: 0.8968\n",
            "Epoch 60/100\n",
            "48000/48000 [==============================] - 2s 52us/step - loss: 0.1693 - acc: 0.9359 - val_loss: 0.3428 - val_acc: 0.8948\n",
            "Epoch 61/100\n",
            "48000/48000 [==============================] - 3s 53us/step - loss: 0.1638 - acc: 0.9382 - val_loss: 0.3623 - val_acc: 0.8941\n",
            "Epoch 62/100\n",
            "48000/48000 [==============================] - 2s 52us/step - loss: 0.1642 - acc: 0.9371 - val_loss: 0.3518 - val_acc: 0.8942\n",
            "Epoch 63/100\n",
            "48000/48000 [==============================] - 2s 52us/step - loss: 0.1607 - acc: 0.9390 - val_loss: 0.3599 - val_acc: 0.8944\n",
            "Epoch 64/100\n",
            "48000/48000 [==============================] - 2s 52us/step - loss: 0.1562 - acc: 0.9395 - val_loss: 0.3630 - val_acc: 0.8939\n",
            "Epoch 65/100\n",
            "48000/48000 [==============================] - 2s 51us/step - loss: 0.1583 - acc: 0.9390 - val_loss: 0.3684 - val_acc: 0.8918\n",
            "Epoch 66/100\n",
            "48000/48000 [==============================] - 2s 52us/step - loss: 0.1586 - acc: 0.9393 - val_loss: 0.3716 - val_acc: 0.8926\n",
            "Epoch 67/100\n",
            "48000/48000 [==============================] - 2s 52us/step - loss: 0.1549 - acc: 0.9391 - val_loss: 0.3633 - val_acc: 0.8936\n",
            "Epoch 68/100\n",
            "48000/48000 [==============================] - 3s 57us/step - loss: 0.1546 - acc: 0.9410 - val_loss: 0.3622 - val_acc: 0.8951\n",
            "Epoch 69/100\n",
            "48000/48000 [==============================] - 3s 59us/step - loss: 0.1562 - acc: 0.9399 - val_loss: 0.3694 - val_acc: 0.8940\n",
            "Epoch 70/100\n",
            "48000/48000 [==============================] - 3s 59us/step - loss: 0.1545 - acc: 0.9406 - val_loss: 0.3899 - val_acc: 0.8941\n",
            "Epoch 71/100\n",
            "48000/48000 [==============================] - 3s 58us/step - loss: 0.1509 - acc: 0.9419 - val_loss: 0.3749 - val_acc: 0.8932\n",
            "Epoch 72/100\n",
            "48000/48000 [==============================] - 2s 51us/step - loss: 0.1492 - acc: 0.9425 - val_loss: 0.3973 - val_acc: 0.8920\n",
            "Epoch 73/100\n",
            "48000/48000 [==============================] - 2s 52us/step - loss: 0.1483 - acc: 0.9424 - val_loss: 0.3808 - val_acc: 0.8918\n",
            "Epoch 74/100\n",
            "48000/48000 [==============================] - 2s 52us/step - loss: 0.1506 - acc: 0.9409 - val_loss: 0.3973 - val_acc: 0.8924\n",
            "Epoch 75/100\n",
            "48000/48000 [==============================] - 2s 52us/step - loss: 0.1506 - acc: 0.9421 - val_loss: 0.3690 - val_acc: 0.8954\n",
            "Epoch 76/100\n",
            "48000/48000 [==============================] - 2s 52us/step - loss: 0.1454 - acc: 0.9430 - val_loss: 0.3992 - val_acc: 0.8939\n",
            "Epoch 77/100\n",
            "48000/48000 [==============================] - 2s 52us/step - loss: 0.1451 - acc: 0.9446 - val_loss: 0.3917 - val_acc: 0.8942\n",
            "Epoch 78/100\n",
            "48000/48000 [==============================] - 2s 52us/step - loss: 0.1437 - acc: 0.9444 - val_loss: 0.3874 - val_acc: 0.8956\n",
            "Epoch 79/100\n",
            "48000/48000 [==============================] - 2s 52us/step - loss: 0.1459 - acc: 0.9430 - val_loss: 0.3871 - val_acc: 0.8958\n",
            "Epoch 80/100\n",
            "48000/48000 [==============================] - 2s 52us/step - loss: 0.1444 - acc: 0.9443 - val_loss: 0.3793 - val_acc: 0.8955\n",
            "Epoch 81/100\n",
            "48000/48000 [==============================] - 2s 51us/step - loss: 0.1423 - acc: 0.9450 - val_loss: 0.4009 - val_acc: 0.8938\n",
            "Epoch 82/100\n",
            "48000/48000 [==============================] - 2s 51us/step - loss: 0.1404 - acc: 0.9449 - val_loss: 0.3960 - val_acc: 0.8924\n",
            "Epoch 83/100\n",
            "48000/48000 [==============================] - 2s 52us/step - loss: 0.1392 - acc: 0.9456 - val_loss: 0.4088 - val_acc: 0.8966\n",
            "Epoch 84/100\n",
            "48000/48000 [==============================] - 2s 52us/step - loss: 0.1398 - acc: 0.9456 - val_loss: 0.3974 - val_acc: 0.8934\n",
            "Epoch 85/100\n",
            "48000/48000 [==============================] - 3s 52us/step - loss: 0.1382 - acc: 0.9461 - val_loss: 0.3960 - val_acc: 0.8978\n",
            "Epoch 86/100\n",
            "48000/48000 [==============================] - 2s 52us/step - loss: 0.1384 - acc: 0.9463 - val_loss: 0.3923 - val_acc: 0.8932\n",
            "Epoch 87/100\n",
            "48000/48000 [==============================] - 2s 52us/step - loss: 0.1380 - acc: 0.9466 - val_loss: 0.4052 - val_acc: 0.8928\n",
            "Epoch 88/100\n",
            "48000/48000 [==============================] - 2s 51us/step - loss: 0.1378 - acc: 0.9471 - val_loss: 0.3930 - val_acc: 0.8944\n",
            "Epoch 89/100\n",
            "48000/48000 [==============================] - 2s 51us/step - loss: 0.1374 - acc: 0.9470 - val_loss: 0.4028 - val_acc: 0.8949\n",
            "Epoch 90/100\n",
            "48000/48000 [==============================] - 3s 52us/step - loss: 0.1348 - acc: 0.9487 - val_loss: 0.4174 - val_acc: 0.8932\n",
            "Epoch 91/100\n",
            "48000/48000 [==============================] - 2s 52us/step - loss: 0.1348 - acc: 0.9472 - val_loss: 0.4020 - val_acc: 0.8951\n",
            "Epoch 92/100\n",
            "48000/48000 [==============================] - 2s 50us/step - loss: 0.1359 - acc: 0.9462 - val_loss: 0.4277 - val_acc: 0.8895\n",
            "Epoch 93/100\n",
            "48000/48000 [==============================] - 2s 51us/step - loss: 0.1365 - acc: 0.9481 - val_loss: 0.4180 - val_acc: 0.8953\n",
            "Epoch 94/100\n",
            "48000/48000 [==============================] - 2s 52us/step - loss: 0.1327 - acc: 0.9487 - val_loss: 0.4055 - val_acc: 0.8946\n",
            "Epoch 95/100\n",
            "48000/48000 [==============================] - 3s 52us/step - loss: 0.1333 - acc: 0.9486 - val_loss: 0.4143 - val_acc: 0.8904\n",
            "Epoch 96/100\n",
            "48000/48000 [==============================] - 2s 52us/step - loss: 0.1324 - acc: 0.9478 - val_loss: 0.4045 - val_acc: 0.8953\n",
            "Epoch 97/100\n",
            "48000/48000 [==============================] - 2s 52us/step - loss: 0.1315 - acc: 0.9496 - val_loss: 0.4244 - val_acc: 0.8907\n",
            "Epoch 98/100\n",
            "48000/48000 [==============================] - 2s 52us/step - loss: 0.1307 - acc: 0.9492 - val_loss: 0.4328 - val_acc: 0.8935\n",
            "Epoch 99/100\n",
            "48000/48000 [==============================] - 2s 52us/step - loss: 0.1308 - acc: 0.9490 - val_loss: 0.4250 - val_acc: 0.8935\n",
            "Epoch 100/100\n",
            "48000/48000 [==============================] - 3s 57us/step - loss: 0.1284 - acc: 0.9503 - val_loss: 0.4163 - val_acc: 0.8948\n",
            "10000/10000 [==============================] - 0s 47us/step\n",
            "Test accuracy: 0.8853\n"
          ],
          "name": "stdout"
        }
      ]
    },
    {
      "metadata": {
        "id": "xu50FVEP3Lmp",
        "colab_type": "code",
        "outputId": "f267dc1a-d2ac-4020-cd1d-a6ea1624f362",
        "colab": {
          "base_uri": "https://localhost:8080/",
          "height": 295
        }
      },
      "cell_type": "code",
      "source": [
        "# summarize history for loss\n",
        "plt.plot(history.history['loss'])\n",
        "plt.plot(history.history['val_loss'])\n",
        "plt.title('model loss')\n",
        "plt.ylabel('loss')\n",
        "plt.xlabel('epoch')\n",
        "plt.legend(['loss', 'val_loss'], loc='upper left')\n",
        "plt.show()"
      ],
      "execution_count": 0,
      "outputs": [
        {
          "output_type": "display_data",
          "data": {
            "image/png": "[encoded data removed]",
            "text/plain": [
              "<Figure size 432x288 with 1 Axes>"
            ]
          },
          "metadata": {
            "tags": []
          }
        }
      ]
    },
    {
      "metadata": {
        "id": "sgJJd9i3kBMy",
        "colab_type": "code",
        "outputId": "bf6ff1bc-a383-4024-c952-cc0723cb621a",
        "colab": {
          "base_uri": "https://localhost:8080/",
          "height": 71
        }
      },
      "cell_type": "code",
      "source": [
        "from keras.layers import Input, Dense\n",
        "from keras.models import Model\n",
        "\n",
        "# this is the size of our encoded representations\n",
        "encoding_dim = 32  # 32 floats -> compression of factor 24.5, assuming the input is 784 floats\n",
        "\n",
        "# this is our input placeholder\n",
        "input_img = Input(shape=(784,))\n",
        "# \"encoded\" is the encoded representation of the input\n",
        "encoded = Dense(encoding_dim, activation='relu')(input_img)\n",
        "# \"decoded\" is the lossy reconstruction of the input\n",
        "decoded = Dense(784, activation='sigmoid')(encoded)\n",
        "\n",
        "# this model maps an input to its reconstruction\n",
        "autoencoder = Model(input=input_img, output=decoded)"
      ],
      "execution_count": 0,
      "outputs": [
        {
          "output_type": "stream",
          "text": [
            "/usr/local/lib/python3.6/dist-packages/ipykernel_launcher.py:15: UserWarning: Update your `Model` call to the Keras 2 API: `Model(inputs=Tensor(\"in..., outputs=Tensor(\"de...)`\n",
            "  from ipykernel import kernelapp as app\n"
          ],
          "name": "stderr"
        }
      ]
    },
    {
      "metadata": {
        "id": "6-UjGOUwlnKx",
        "colab_type": "code",
        "outputId": "433f84d1-b5d3-4170-965a-0a6e3920d56d",
        "colab": {
          "base_uri": "https://localhost:8080/",
          "height": 71
        }
      },
      "cell_type": "code",
      "source": [
        "encoder = Model(input=input_img, output=encoded)\n"
      ],
      "execution_count": 0,
      "outputs": [
        {
          "output_type": "stream",
          "text": [
            "/usr/local/lib/python3.6/dist-packages/ipykernel_launcher.py:1: UserWarning: Update your `Model` call to the Keras 2 API: `Model(inputs=Tensor(\"in..., outputs=Tensor(\"de...)`\n",
            "  \"\"\"Entry point for launching an IPython kernel.\n"
          ],
          "name": "stderr"
        }
      ]
    },
    {
      "metadata": {
        "id": "7W3nlv_Cmoxm",
        "colab_type": "code",
        "outputId": "9c16d5c7-4411-4851-f3a7-a0ebceb1a157",
        "colab": {
          "base_uri": "https://localhost:8080/",
          "height": 71
        }
      },
      "cell_type": "code",
      "source": [
        "# create a placeholder for an encoded (32-dimensional) input\n",
        "encoded_input = Input(shape=(encoding_dim,))\n",
        "# retrieve the last layer of the autoencoder model\n",
        "decoder_layer = autoencoder.layers[-1]\n",
        "# create the decoder model\n",
        "decoder = Model(input=encoded_input, output=decoder_layer(encoded_input))"
      ],
      "execution_count": 0,
      "outputs": [
        {
          "output_type": "stream",
          "text": [
            "/usr/local/lib/python3.6/dist-packages/ipykernel_launcher.py:5: UserWarning: Update your `Model` call to the Keras 2 API: `Model(inputs=Tensor(\"in..., outputs=Tensor(\"de...)`\n",
            "  \"\"\"\n"
          ],
          "name": "stderr"
        }
      ]
    },
    {
      "metadata": {
        "id": "NODCrgZ87wEx",
        "colab_type": "code",
        "colab": {}
      },
      "cell_type": "code",
      "source": [
        "autoencoder.compile(optimizer='adadelta', loss='binary_crossentropy')\n"
      ],
      "execution_count": 0,
      "outputs": []
    },
    {
      "metadata": {
        "id": "bT88GA_qmqyL",
        "colab_type": "code",
        "outputId": "4d7a4b1f-1794-472c-b264-37d17544c2f0",
        "colab": {
          "base_uri": "https://localhost:8080/",
          "height": 51
        }
      },
      "cell_type": "code",
      "source": [
        "X_train = X_train.reshape((len(X_train), np.prod(X_train.shape[1:])))\n",
        "X_test = X_test.reshape((len(X_test), np.prod(X_test.shape[1:])))\n",
        "print(X_train.shape )\n",
        "print (X_test.shape)"
      ],
      "execution_count": 0,
      "outputs": [
        {
          "output_type": "stream",
          "text": [
            "(60000, 784)\n",
            "(10000, 784)\n"
          ],
          "name": "stdout"
        }
      ]
    },
    {
      "metadata": {
        "id": "471zjxPUmq2d",
        "colab_type": "code",
        "outputId": "c739d97c-da78-4ed4-bf7d-ef7ff5c957b4",
        "colab": {
          "base_uri": "https://localhost:8080/",
          "height": 3434
        }
      },
      "cell_type": "code",
      "source": [
        "# training\n",
        "h=autoencoder.fit(X_train, X_train,\n",
        "                epochs=100,\n",
        "                batch_size=256,validation_data=(X_test, X_test),\n",
        "                shuffle=True)\n",
        "\n"
      ],
      "execution_count": 0,
      "outputs": [
        {
          "output_type": "stream",
          "text": [
            "Train on 60000 samples, validate on 10000 samples\n",
            "Epoch 1/100\n",
            "60000/60000 [==============================] - 2s 25us/step - loss: 0.5310 - val_loss: 0.4571\n",
            "Epoch 2/100\n",
            "60000/60000 [==============================] - 1s 19us/step - loss: 0.4237 - val_loss: 0.4060\n",
            "Epoch 3/100\n",
            "60000/60000 [==============================] - 1s 19us/step - loss: 0.3957 - val_loss: 0.3882\n",
            "Epoch 4/100\n",
            "60000/60000 [==============================] - 1s 19us/step - loss: 0.3783 - val_loss: 0.3720\n",
            "Epoch 5/100\n",
            "60000/60000 [==============================] - 1s 19us/step - loss: 0.3634 - val_loss: 0.3588\n",
            "Epoch 6/100\n",
            "60000/60000 [==============================] - 1s 18us/step - loss: 0.3519 - val_loss: 0.3492\n",
            "Epoch 7/100\n",
            "60000/60000 [==============================] - 1s 17us/step - loss: 0.3435 - val_loss: 0.3419\n",
            "Epoch 8/100\n",
            "60000/60000 [==============================] - 1s 17us/step - loss: 0.3372 - val_loss: 0.3364\n",
            "Epoch 9/100\n",
            "60000/60000 [==============================] - 1s 17us/step - loss: 0.3322 - val_loss: 0.3320\n",
            "Epoch 10/100\n",
            "60000/60000 [==============================] - 1s 17us/step - loss: 0.3282 - val_loss: 0.3283\n",
            "Epoch 11/100\n",
            "60000/60000 [==============================] - 1s 17us/step - loss: 0.3249 - val_loss: 0.3253\n",
            "Epoch 12/100\n",
            "60000/60000 [==============================] - 1s 17us/step - loss: 0.3220 - val_loss: 0.3227\n",
            "Epoch 13/100\n",
            "60000/60000 [==============================] - 1s 17us/step - loss: 0.3194 - val_loss: 0.3202\n",
            "Epoch 14/100\n",
            "60000/60000 [==============================] - 1s 17us/step - loss: 0.3171 - val_loss: 0.3181\n",
            "Epoch 15/100\n",
            "60000/60000 [==============================] - 1s 17us/step - loss: 0.3152 - val_loss: 0.3162\n",
            "Epoch 16/100\n",
            "60000/60000 [==============================] - 1s 17us/step - loss: 0.3134 - val_loss: 0.3146\n",
            "Epoch 17/100\n",
            "60000/60000 [==============================] - 1s 17us/step - loss: 0.3119 - val_loss: 0.3132\n",
            "Epoch 18/100\n",
            "60000/60000 [==============================] - 1s 17us/step - loss: 0.3107 - val_loss: 0.3120\n",
            "Epoch 19/100\n",
            "60000/60000 [==============================] - 1s 17us/step - loss: 0.3095 - val_loss: 0.3110\n",
            "Epoch 20/100\n",
            "60000/60000 [==============================] - 1s 17us/step - loss: 0.3085 - val_loss: 0.3100\n",
            "Epoch 21/100\n",
            "60000/60000 [==============================] - 1s 17us/step - loss: 0.3076 - val_loss: 0.3092\n",
            "Epoch 22/100\n",
            "60000/60000 [==============================] - 1s 17us/step - loss: 0.3067 - val_loss: 0.3084\n",
            "Epoch 23/100\n",
            "60000/60000 [==============================] - 1s 17us/step - loss: 0.3060 - val_loss: 0.3076\n",
            "Epoch 24/100\n",
            "60000/60000 [==============================] - 1s 17us/step - loss: 0.3053 - val_loss: 0.3069\n",
            "Epoch 25/100\n",
            "60000/60000 [==============================] - 1s 17us/step - loss: 0.3046 - val_loss: 0.3063\n",
            "Epoch 26/100\n",
            "60000/60000 [==============================] - 1s 20us/step - loss: 0.3040 - val_loss: 0.3058\n",
            "Epoch 27/100\n",
            "60000/60000 [==============================] - 1s 19us/step - loss: 0.3034 - val_loss: 0.3052\n",
            "Epoch 28/100\n",
            "60000/60000 [==============================] - 1s 20us/step - loss: 0.3029 - val_loss: 0.3046\n",
            "Epoch 29/100\n",
            "60000/60000 [==============================] - 1s 20us/step - loss: 0.3023 - val_loss: 0.3041\n",
            "Epoch 30/100\n",
            "60000/60000 [==============================] - 1s 20us/step - loss: 0.3018 - val_loss: 0.3036\n",
            "Epoch 31/100\n",
            "60000/60000 [==============================] - 1s 19us/step - loss: 0.3014 - val_loss: 0.3032\n",
            "Epoch 32/100\n",
            "60000/60000 [==============================] - 1s 19us/step - loss: 0.3009 - val_loss: 0.3027\n",
            "Epoch 33/100\n",
            "60000/60000 [==============================] - 1s 20us/step - loss: 0.3005 - val_loss: 0.3023\n",
            "Epoch 34/100\n",
            "60000/60000 [==============================] - 1s 19us/step - loss: 0.3000 - val_loss: 0.3019\n",
            "Epoch 35/100\n",
            "60000/60000 [==============================] - 1s 17us/step - loss: 0.2996 - val_loss: 0.3015\n",
            "Epoch 36/100\n",
            "60000/60000 [==============================] - 1s 17us/step - loss: 0.2992 - val_loss: 0.3011\n",
            "Epoch 37/100\n",
            "60000/60000 [==============================] - 1s 17us/step - loss: 0.2988 - val_loss: 0.3007\n",
            "Epoch 38/100\n",
            "60000/60000 [==============================] - 1s 17us/step - loss: 0.2985 - val_loss: 0.3004\n",
            "Epoch 39/100\n",
            "60000/60000 [==============================] - 1s 17us/step - loss: 0.2981 - val_loss: 0.3000\n",
            "Epoch 40/100\n",
            "60000/60000 [==============================] - 1s 17us/step - loss: 0.2978 - val_loss: 0.2997\n",
            "Epoch 41/100\n",
            "60000/60000 [==============================] - 1s 17us/step - loss: 0.2975 - val_loss: 0.2995\n",
            "Epoch 42/100\n",
            "60000/60000 [==============================] - 1s 17us/step - loss: 0.2971 - val_loss: 0.2991\n",
            "Epoch 43/100\n",
            "60000/60000 [==============================] - 1s 17us/step - loss: 0.2968 - val_loss: 0.2988\n",
            "Epoch 44/100\n",
            "60000/60000 [==============================] - 1s 17us/step - loss: 0.2965 - val_loss: 0.2985\n",
            "Epoch 45/100\n",
            "60000/60000 [==============================] - 1s 17us/step - loss: 0.2963 - val_loss: 0.2983\n",
            "Epoch 46/100\n",
            "60000/60000 [==============================] - 1s 19us/step - loss: 0.2960 - val_loss: 0.2979\n",
            "Epoch 47/100\n",
            "60000/60000 [==============================] - 1s 19us/step - loss: 0.2957 - val_loss: 0.2977\n",
            "Epoch 48/100\n",
            "60000/60000 [==============================] - 1s 19us/step - loss: 0.2955 - val_loss: 0.2974\n",
            "Epoch 49/100\n",
            "60000/60000 [==============================] - 1s 19us/step - loss: 0.2952 - val_loss: 0.2972\n",
            "Epoch 50/100\n",
            "60000/60000 [==============================] - 1s 18us/step - loss: 0.2950 - val_loss: 0.2970\n",
            "Epoch 51/100\n",
            "60000/60000 [==============================] - 1s 17us/step - loss: 0.2947 - val_loss: 0.2967\n",
            "Epoch 52/100\n",
            "60000/60000 [==============================] - 1s 17us/step - loss: 0.2945 - val_loss: 0.2965\n",
            "Epoch 53/100\n",
            "60000/60000 [==============================] - 1s 17us/step - loss: 0.2943 - val_loss: 0.2963\n",
            "Epoch 54/100\n",
            "60000/60000 [==============================] - 1s 17us/step - loss: 0.2941 - val_loss: 0.2961\n",
            "Epoch 55/100\n",
            "60000/60000 [==============================] - 1s 17us/step - loss: 0.2939 - val_loss: 0.2959\n",
            "Epoch 56/100\n",
            "60000/60000 [==============================] - 1s 17us/step - loss: 0.2937 - val_loss: 0.2957\n",
            "Epoch 57/100\n",
            "60000/60000 [==============================] - 1s 17us/step - loss: 0.2935 - val_loss: 0.2955\n",
            "Epoch 58/100\n",
            "60000/60000 [==============================] - 1s 17us/step - loss: 0.2933 - val_loss: 0.2953\n",
            "Epoch 59/100\n",
            "60000/60000 [==============================] - 1s 17us/step - loss: 0.2931 - val_loss: 0.2952\n",
            "Epoch 60/100\n",
            "60000/60000 [==============================] - 1s 17us/step - loss: 0.2929 - val_loss: 0.2950\n",
            "Epoch 61/100\n",
            "60000/60000 [==============================] - 1s 17us/step - loss: 0.2928 - val_loss: 0.2948\n",
            "Epoch 62/100\n",
            "60000/60000 [==============================] - 1s 17us/step - loss: 0.2926 - val_loss: 0.2947\n",
            "Epoch 63/100\n",
            "60000/60000 [==============================] - 1s 17us/step - loss: 0.2924 - val_loss: 0.2945\n",
            "Epoch 64/100\n",
            "60000/60000 [==============================] - 1s 17us/step - loss: 0.2923 - val_loss: 0.2944\n",
            "Epoch 65/100\n",
            "60000/60000 [==============================] - 1s 17us/step - loss: 0.2921 - val_loss: 0.2942\n",
            "Epoch 66/100\n",
            "60000/60000 [==============================] - 1s 17us/step - loss: 0.2920 - val_loss: 0.2941\n",
            "Epoch 67/100\n",
            "60000/60000 [==============================] - 1s 17us/step - loss: 0.2919 - val_loss: 0.2939\n",
            "Epoch 68/100\n",
            "60000/60000 [==============================] - 1s 17us/step - loss: 0.2917 - val_loss: 0.2938\n",
            "Epoch 69/100\n",
            "60000/60000 [==============================] - 1s 17us/step - loss: 0.2916 - val_loss: 0.2937\n",
            "Epoch 70/100\n",
            "60000/60000 [==============================] - 1s 17us/step - loss: 0.2915 - val_loss: 0.2936\n",
            "Epoch 71/100\n",
            "60000/60000 [==============================] - 1s 17us/step - loss: 0.2914 - val_loss: 0.2935\n",
            "Epoch 72/100\n",
            "60000/60000 [==============================] - 1s 17us/step - loss: 0.2912 - val_loss: 0.2933\n",
            "Epoch 73/100\n",
            "60000/60000 [==============================] - 1s 17us/step - loss: 0.2911 - val_loss: 0.2933\n",
            "Epoch 74/100\n",
            "60000/60000 [==============================] - 1s 18us/step - loss: 0.2910 - val_loss: 0.2931\n",
            "Epoch 75/100\n",
            "60000/60000 [==============================] - 1s 19us/step - loss: 0.2909 - val_loss: 0.2930\n",
            "Epoch 76/100\n",
            "60000/60000 [==============================] - 1s 19us/step - loss: 0.2908 - val_loss: 0.2929\n",
            "Epoch 77/100\n",
            "60000/60000 [==============================] - 1s 19us/step - loss: 0.2907 - val_loss: 0.2928\n",
            "Epoch 78/100\n",
            "60000/60000 [==============================] - 1s 19us/step - loss: 0.2906 - val_loss: 0.2927\n",
            "Epoch 79/100\n",
            "60000/60000 [==============================] - 1s 19us/step - loss: 0.2905 - val_loss: 0.2926\n",
            "Epoch 80/100\n",
            "60000/60000 [==============================] - 1s 19us/step - loss: 0.2904 - val_loss: 0.2925\n",
            "Epoch 81/100\n",
            "60000/60000 [==============================] - 1s 19us/step - loss: 0.2903 - val_loss: 0.2924\n",
            "Epoch 82/100\n",
            "60000/60000 [==============================] - 1s 19us/step - loss: 0.2902 - val_loss: 0.2924\n",
            "Epoch 83/100\n",
            "60000/60000 [==============================] - 1s 17us/step - loss: 0.2901 - val_loss: 0.2923\n",
            "Epoch 84/100\n",
            "60000/60000 [==============================] - 1s 17us/step - loss: 0.2901 - val_loss: 0.2922\n",
            "Epoch 85/100\n",
            "60000/60000 [==============================] - 1s 17us/step - loss: 0.2900 - val_loss: 0.2921\n",
            "Epoch 86/100\n",
            "60000/60000 [==============================] - 1s 17us/step - loss: 0.2899 - val_loss: 0.2921\n",
            "Epoch 87/100\n",
            "60000/60000 [==============================] - 1s 17us/step - loss: 0.2898 - val_loss: 0.2920\n",
            "Epoch 88/100\n",
            "60000/60000 [==============================] - 1s 17us/step - loss: 0.2897 - val_loss: 0.2919\n",
            "Epoch 89/100\n",
            "60000/60000 [==============================] - 1s 17us/step - loss: 0.2897 - val_loss: 0.2918\n",
            "Epoch 90/100\n",
            "60000/60000 [==============================] - 1s 17us/step - loss: 0.2896 - val_loss: 0.2918\n",
            "Epoch 91/100\n",
            "60000/60000 [==============================] - 1s 17us/step - loss: 0.2895 - val_loss: 0.2917\n",
            "Epoch 92/100\n",
            "60000/60000 [==============================] - 1s 17us/step - loss: 0.2895 - val_loss: 0.2916\n",
            "Epoch 93/100\n",
            "60000/60000 [==============================] - 1s 17us/step - loss: 0.2894 - val_loss: 0.2916\n",
            "Epoch 94/100\n",
            "60000/60000 [==============================] - 1s 17us/step - loss: 0.2893 - val_loss: 0.2915\n",
            "Epoch 95/100\n",
            "60000/60000 [==============================] - 1s 17us/step - loss: 0.2893 - val_loss: 0.2915\n",
            "Epoch 96/100\n",
            "60000/60000 [==============================] - 1s 17us/step - loss: 0.2892 - val_loss: 0.2914\n",
            "Epoch 97/100\n",
            "60000/60000 [==============================] - 1s 17us/step - loss: 0.2891 - val_loss: 0.2913\n",
            "Epoch 98/100\n",
            "60000/60000 [==============================] - 1s 17us/step - loss: 0.2891 - val_loss: 0.2913\n",
            "Epoch 99/100\n",
            "60000/60000 [==============================] - 1s 17us/step - loss: 0.2890 - val_loss: 0.2912\n",
            "Epoch 100/100\n",
            "60000/60000 [==============================] - 1s 17us/step - loss: 0.2890 - val_loss: 0.2912\n"
          ],
          "name": "stdout"
        }
      ]
    },
    {
      "metadata": {
        "id": "iO1SGqnCmq6C",
        "colab_type": "code",
        "outputId": "3d82e51c-a2c7-49ce-bd66-ad8291d53175",
        "colab": {
          "base_uri": "https://localhost:8080/",
          "height": 295
        }
      },
      "cell_type": "code",
      "source": [
        "# summarize history for loss\n",
        "plt.plot(h.history['loss'])\n",
        "plt.plot(h.history['val_loss'])\n",
        "plt.title('model loss')\n",
        "plt.ylabel('loss')\n",
        "plt.xlabel('epoch')\n",
        "plt.legend(['loss', 'val_loss'], loc='upper left')\n",
        "plt.show()"
      ],
      "execution_count": 0,
      "outputs": [
        {
          "output_type": "display_data",
          "data": {
            "image/png": "[encoded data removed]",
            "text/plain": [
              "<Figure size 432x288 with 1 Axes>"
            ]
          },
          "metadata": {
            "tags": []
          }
        }
      ]
    },
    {
      "metadata": {
        "id": "Fbku48NRsva8",
        "colab_type": "code",
        "colab": {}
      },
      "cell_type": "code",
      "source": [
        "# encode and decode some digits\n",
        "# note that we take them from the *test* set\n",
        "# use Matplotlib (don't ask)\n",
        "import matplotlib.pyplot as plt\n",
        "\n",
        "encoded_imgs = encoder.predict(X_test)\n",
        "decoded_imgs = decoder.predict(encoded_imgs)\n",
        "\n",
        "\n"
      ],
      "execution_count": 0,
      "outputs": []
    },
    {
      "metadata": {
        "id": "GzOoa2Rasvef",
        "colab_type": "code",
        "outputId": "27ec211b-4a65-4bd1-d24d-098ddd379944",
        "colab": {
          "base_uri": "https://localhost:8080/",
          "height": 244
        }
      },
      "cell_type": "code",
      "source": [
        "n = 10  # how many digits we will display\n",
        "plt.figure(figsize=(20, 4))\n",
        "for i in range(n):\n",
        "    # display original\n",
        "    ax = plt.subplot(2, n, 1+i)\n",
        "    plt.imshow(X_test[i].reshape(28, 28))\n",
        "    plt.gray()\n",
        "    ax.get_xaxis().set_visible(False)\n",
        "    ax.get_yaxis().set_visible(False)\n",
        "\n",
        "    # display reconstruction\n",
        "    ax = plt.subplot(2, n, 1+i + n)\n",
        "    plt.imshow(decoded_imgs[i].reshape(28, 28))\n",
        "    plt.gray()\n",
        "    ax.get_xaxis().set_visible(False)\n",
        "    ax.get_yaxis().set_visible(False)\n",
        "plt.show()"
      ],
      "execution_count": 0,
      "outputs": [
        {
          "output_type": "display_data",
          "data": {
            "image/png": "[encoded data removed]",
            "text/plain": [
              "<Figure size 1440x288 with 20 Axes>"
            ]
          },
          "metadata": {
            "tags": []
          }
        }
      ]
    },
    {
      "metadata": {
        "id": "8W_f7mI5DbU6",
        "colab_type": "text"
      },
      "cell_type": "markdown",
      "source": [
        "# stacked autoencoder "
      ]
    },
    {
      "metadata": {
        "id": "D5zf0nkHsvYd",
        "colab_type": "code",
        "outputId": "3d54a43c-741f-4e3e-9254-3a91b787df93",
        "colab": {
          "base_uri": "https://localhost:8080/",
          "height": 1839
        }
      },
      "cell_type": "code",
      "source": [
        "input_img = Input(shape=(784,))\n",
        "encoded = Dense(128, activation='relu')(input_img)\n",
        "encoded = Dense(64, activation='relu')(encoded)\n",
        "encoded = Dense(32, activation='relu')(encoded)\n",
        "\n",
        "decoded = Dense(64, activation='relu')(encoded)\n",
        "decoded = Dense(128, activation='relu')(decoded)\n",
        "decoded = Dense(784, activation='sigmoid')(decoded)\n",
        "\n",
        "autoencoder1 = Model(input=input_img, output=decoded)\n",
        "autoencoder1.compile(optimizer='adam', loss='mse')\n",
        "\n",
        "encoder = Model(input=input_img, output=encoded)\n",
        "\n",
        "\n",
        "h1=autoencoder1.fit(X_train, X_train,\n",
        "                nb_epoch=50,\n",
        "                batch_size=256,\n",
        "                shuffle=True,\n",
        "                validation_data=(X_test, X_test))"
      ],
      "execution_count": 0,
      "outputs": [
        {
          "output_type": "stream",
          "text": [
            "/usr/local/lib/python3.6/dist-packages/ipykernel_launcher.py:10: UserWarning: Update your `Model` call to the Keras 2 API: `Model(inputs=Tensor(\"in..., outputs=Tensor(\"de...)`\n",
            "  # Remove the CWD from sys.path while we load stuff.\n",
            "/usr/local/lib/python3.6/dist-packages/ipykernel_launcher.py:13: UserWarning: Update your `Model` call to the Keras 2 API: `Model(inputs=Tensor(\"in..., outputs=Tensor(\"de...)`\n",
            "  del sys.path[0]\n",
            "/usr/local/lib/python3.6/dist-packages/ipykernel_launcher.py:20: UserWarning: The `nb_epoch` argument in `fit` has been renamed `epochs`.\n"
          ],
          "name": "stderr"
        },
        {
          "output_type": "stream",
          "text": [
            "Train on 60000 samples, validate on 10000 samples\n",
            "Epoch 1/50\n",
            "60000/60000 [==============================] - 2s 29us/step - loss: 0.0486 - val_loss: 0.0262\n",
            "Epoch 2/50\n",
            "60000/60000 [==============================] - 1s 21us/step - loss: 0.0231 - val_loss: 0.0211\n",
            "Epoch 3/50\n",
            "60000/60000 [==============================] - 1s 21us/step - loss: 0.0199 - val_loss: 0.0192\n",
            "Epoch 4/50\n",
            "60000/60000 [==============================] - 1s 21us/step - loss: 0.0185 - val_loss: 0.0178\n",
            "Epoch 5/50\n",
            "60000/60000 [==============================] - 1s 21us/step - loss: 0.0174 - val_loss: 0.0168\n",
            "Epoch 6/50\n",
            "60000/60000 [==============================] - 1s 21us/step - loss: 0.0165 - val_loss: 0.0162\n",
            "Epoch 7/50\n",
            "60000/60000 [==============================] - 1s 21us/step - loss: 0.0158 - val_loss: 0.0155\n",
            "Epoch 8/50\n",
            "60000/60000 [==============================] - 1s 21us/step - loss: 0.0152 - val_loss: 0.0151\n",
            "Epoch 9/50\n",
            "60000/60000 [==============================] - 1s 21us/step - loss: 0.0147 - val_loss: 0.0145\n",
            "Epoch 10/50\n",
            "60000/60000 [==============================] - 1s 21us/step - loss: 0.0143 - val_loss: 0.0142\n",
            "Epoch 11/50\n",
            "60000/60000 [==============================] - 1s 21us/step - loss: 0.0140 - val_loss: 0.0139\n",
            "Epoch 12/50\n",
            "60000/60000 [==============================] - 1s 21us/step - loss: 0.0136 - val_loss: 0.0136\n",
            "Epoch 13/50\n",
            "60000/60000 [==============================] - 1s 21us/step - loss: 0.0134 - val_loss: 0.0133\n",
            "Epoch 14/50\n",
            "60000/60000 [==============================] - 1s 21us/step - loss: 0.0131 - val_loss: 0.0133\n",
            "Epoch 15/50\n",
            "60000/60000 [==============================] - 1s 20us/step - loss: 0.0130 - val_loss: 0.0131\n",
            "Epoch 16/50\n",
            "60000/60000 [==============================] - 1s 21us/step - loss: 0.0128 - val_loss: 0.0128\n",
            "Epoch 17/50\n",
            "60000/60000 [==============================] - 1s 21us/step - loss: 0.0126 - val_loss: 0.0127\n",
            "Epoch 18/50\n",
            "60000/60000 [==============================] - 1s 21us/step - loss: 0.0124 - val_loss: 0.0124\n",
            "Epoch 19/50\n",
            "60000/60000 [==============================] - 1s 21us/step - loss: 0.0123 - val_loss: 0.0124\n",
            "Epoch 20/50\n",
            "60000/60000 [==============================] - 1s 21us/step - loss: 0.0121 - val_loss: 0.0122\n",
            "Epoch 21/50\n",
            "60000/60000 [==============================] - 1s 21us/step - loss: 0.0120 - val_loss: 0.0123\n",
            "Epoch 22/50\n",
            "60000/60000 [==============================] - 1s 21us/step - loss: 0.0119 - val_loss: 0.0120\n",
            "Epoch 23/50\n",
            "60000/60000 [==============================] - 1s 20us/step - loss: 0.0117 - val_loss: 0.0120\n",
            "Epoch 24/50\n",
            "60000/60000 [==============================] - 1s 21us/step - loss: 0.0117 - val_loss: 0.0118\n",
            "Epoch 25/50\n",
            "60000/60000 [==============================] - 1s 21us/step - loss: 0.0116 - val_loss: 0.0118\n",
            "Epoch 26/50\n",
            "60000/60000 [==============================] - 1s 21us/step - loss: 0.0114 - val_loss: 0.0116\n",
            "Epoch 27/50\n",
            "60000/60000 [==============================] - 1s 21us/step - loss: 0.0114 - val_loss: 0.0115\n",
            "Epoch 28/50\n",
            "60000/60000 [==============================] - 1s 21us/step - loss: 0.0113 - val_loss: 0.0114\n",
            "Epoch 29/50\n",
            "60000/60000 [==============================] - 1s 21us/step - loss: 0.0112 - val_loss: 0.0113\n",
            "Epoch 30/50\n",
            "60000/60000 [==============================] - 1s 21us/step - loss: 0.0111 - val_loss: 0.0112\n",
            "Epoch 31/50\n",
            "60000/60000 [==============================] - 1s 21us/step - loss: 0.0110 - val_loss: 0.0112\n",
            "Epoch 32/50\n",
            "60000/60000 [==============================] - 1s 21us/step - loss: 0.0110 - val_loss: 0.0111\n",
            "Epoch 33/50\n",
            "60000/60000 [==============================] - 1s 21us/step - loss: 0.0109 - val_loss: 0.0110\n",
            "Epoch 34/50\n",
            "60000/60000 [==============================] - 1s 21us/step - loss: 0.0109 - val_loss: 0.0110\n",
            "Epoch 35/50\n",
            "60000/60000 [==============================] - 1s 21us/step - loss: 0.0108 - val_loss: 0.0109\n",
            "Epoch 36/50\n",
            "60000/60000 [==============================] - 1s 21us/step - loss: 0.0107 - val_loss: 0.0109\n",
            "Epoch 37/50\n",
            "60000/60000 [==============================] - 1s 21us/step - loss: 0.0107 - val_loss: 0.0109\n",
            "Epoch 38/50\n",
            "60000/60000 [==============================] - 1s 21us/step - loss: 0.0107 - val_loss: 0.0109\n",
            "Epoch 39/50\n",
            "60000/60000 [==============================] - 1s 21us/step - loss: 0.0106 - val_loss: 0.0107\n",
            "Epoch 40/50\n",
            "60000/60000 [==============================] - 1s 21us/step - loss: 0.0105 - val_loss: 0.0107\n",
            "Epoch 41/50\n",
            "60000/60000 [==============================] - 1s 23us/step - loss: 0.0105 - val_loss: 0.0107\n",
            "Epoch 42/50\n",
            "60000/60000 [==============================] - 1s 23us/step - loss: 0.0104 - val_loss: 0.0106\n",
            "Epoch 43/50\n",
            "60000/60000 [==============================] - 1s 24us/step - loss: 0.0104 - val_loss: 0.0106\n",
            "Epoch 44/50\n",
            "60000/60000 [==============================] - 1s 24us/step - loss: 0.0104 - val_loss: 0.0106\n",
            "Epoch 45/50\n",
            "60000/60000 [==============================] - 1s 24us/step - loss: 0.0103 - val_loss: 0.0106\n",
            "Epoch 46/50\n",
            "60000/60000 [==============================] - 1s 24us/step - loss: 0.0103 - val_loss: 0.0105\n",
            "Epoch 47/50\n",
            "60000/60000 [==============================] - 1s 24us/step - loss: 0.0103 - val_loss: 0.0105\n",
            "Epoch 48/50\n",
            "60000/60000 [==============================] - 1s 21us/step - loss: 0.0102 - val_loss: 0.0106\n",
            "Epoch 49/50\n",
            "60000/60000 [==============================] - 1s 21us/step - loss: 0.0102 - val_loss: 0.0104\n",
            "Epoch 50/50\n",
            "60000/60000 [==============================] - 1s 21us/step - loss: 0.0102 - val_loss: 0.0103\n"
          ],
          "name": "stdout"
        }
      ]
    },
    {
      "metadata": {
        "id": "aWChNjtpBLUJ",
        "colab_type": "code",
        "outputId": "edf9f854-df68-40cf-fbf6-08826f91ae6f",
        "colab": {
          "base_uri": "https://localhost:8080/",
          "height": 295
        }
      },
      "cell_type": "code",
      "source": [
        "# summarize history for loss\n",
        "plt.plot(h1.history['loss'])\n",
        "plt.plot(h1.history['val_loss'])\n",
        "plt.title('model loss')\n",
        "plt.ylabel('loss')\n",
        "plt.xlabel('epoch')\n",
        "plt.legend(['loss', 'val_loss'], loc='upper left')\n",
        "plt.show()"
      ],
      "execution_count": 0,
      "outputs": [
        {
          "output_type": "display_data",
          "data": {
            "image/png": "[encoded data removed]",
            "text/plain": [
              "<Figure size 432x288 with 1 Axes>"
            ]
          },
          "metadata": {
            "tags": []
          }
        }
      ]
    },
    {
      "metadata": {
        "id": "uTN_qmAjk7g7",
        "colab_type": "code",
        "colab": {}
      },
      "cell_type": "code",
      "source": [
        "#Plot 10 samples\n",
        "predictions = autoencoder1.predict(X_test)\n"
      ],
      "execution_count": 0,
      "outputs": []
    },
    {
      "metadata": {
        "id": "PFqhhaP6NivP",
        "colab_type": "code",
        "outputId": "a1978d0c-05aa-443d-cdbe-985fadb6af8b",
        "colab": {
          "base_uri": "https://localhost:8080/",
          "height": 244
        }
      },
      "cell_type": "code",
      "source": [
        "n = 10\n",
        "plt.figure(figsize=(20, 4))\n",
        "for i in range(n):\n",
        "    # display original\n",
        "    ax = plt.subplot(2, n, i+1)\n",
        "    plt.imshow(X_test[i].reshape(28, 28))\n",
        "    plt.gray()\n",
        "    ax.get_xaxis().set_visible(False)\n",
        "    ax.get_yaxis().set_visible(False)\n",
        "for i in range(n):\n",
        "    # display reconstruction\n",
        "    ax = plt.subplot(2, n, i+n+1)\n",
        "    plt.imshow(predictions[i].reshape(28, 28))\n",
        "    plt.gray()\n",
        "    ax.get_xaxis().set_visible(False)\n",
        "    ax.get_yaxis().set_visible(False)\n",
        "plt.show()"
      ],
      "execution_count": 0,
      "outputs": [
        {
          "output_type": "display_data",
          "data": {
            "image/png": "[encoded data removed]",
            "text/plain": [
              "<Figure size 1440x288 with 20 Axes>"
            ]
          },
          "metadata": {
            "tags": []
          }
        }
      ]
    },
    {
      "metadata": {
        "id": "v02OVvZSDoHx",
        "colab_type": "text"
      },
      "cell_type": "markdown",
      "source": [
        "\n",
        "\n",
        "#Convolutional autoencoder\n",
        "\n"
      ]
    },
    {
      "metadata": {
        "id": "NZFWxDkUk7qL",
        "colab_type": "code",
        "outputId": "a6c02da9-673f-40a1-be7c-1054d26b3793",
        "colab": {
          "base_uri": "https://localhost:8080/",
          "height": 326
        }
      },
      "cell_type": "code",
      "source": [
        "from keras.layers import Input, Dense, Convolution2D, MaxPooling2D, UpSampling2D\n",
        "from keras.models import Model\n",
        "\n",
        "input_img = Input(shape=(28, 28,1))\n",
        "\n",
        "x = Convolution2D(16, 3, 3, activation='relu', border_mode='same')(input_img)\n",
        "x = MaxPooling2D((2, 2), border_mode='same')(x)\n",
        "x = Convolution2D(8, 3, 3, activation='relu', border_mode='same')(x)\n",
        "x = MaxPooling2D((2, 2), border_mode='same')(x)\n",
        "x = Convolution2D(8, 3, 3, activation='relu', border_mode='same')(x)\n",
        "encoded = MaxPooling2D((2, 2), border_mode='same')(x)\n",
        "\n",
        "# at this point the representation is (8, 4, 4) i.e. 128-dimensional\n",
        "\n",
        "x = Convolution2D(8, 3, 3, activation='relu', border_mode='same')(encoded)\n",
        "x = UpSampling2D((2, 2))(x)\n",
        "x = Convolution2D(8, 3, 3, activation='relu', border_mode='same')(x)\n",
        "x = UpSampling2D((2, 2))(x)\n",
        "x = Convolution2D(16, 3, 3, activation='relu')(x)\n",
        "x = UpSampling2D((2, 2))(x)\n",
        "decoded = Convolution2D(1, 3, 3, activation='sigmoid', border_mode='same')(x)\n",
        "\n",
        "autoencoder = Model(input_img, decoded)\n",
        "autoencoder.compile(optimizer='adam', loss='mse')"
      ],
      "execution_count": 0,
      "outputs": [
        {
          "output_type": "stream",
          "text": [
            "/usr/local/lib/python3.6/dist-packages/ipykernel_launcher.py:6: UserWarning: Update your `Conv2D` call to the Keras 2 API: `Conv2D(16, (3, 3), activation=\"relu\", padding=\"same\")`\n",
            "  \n",
            "/usr/local/lib/python3.6/dist-packages/ipykernel_launcher.py:7: UserWarning: Update your `MaxPooling2D` call to the Keras 2 API: `MaxPooling2D((2, 2), padding=\"same\")`\n",
            "  import sys\n",
            "/usr/local/lib/python3.6/dist-packages/ipykernel_launcher.py:8: UserWarning: Update your `Conv2D` call to the Keras 2 API: `Conv2D(8, (3, 3), activation=\"relu\", padding=\"same\")`\n",
            "  \n",
            "/usr/local/lib/python3.6/dist-packages/ipykernel_launcher.py:9: UserWarning: Update your `MaxPooling2D` call to the Keras 2 API: `MaxPooling2D((2, 2), padding=\"same\")`\n",
            "  if __name__ == '__main__':\n",
            "/usr/local/lib/python3.6/dist-packages/ipykernel_launcher.py:10: UserWarning: Update your `Conv2D` call to the Keras 2 API: `Conv2D(8, (3, 3), activation=\"relu\", padding=\"same\")`\n",
            "  # Remove the CWD from sys.path while we load stuff.\n",
            "/usr/local/lib/python3.6/dist-packages/ipykernel_launcher.py:11: UserWarning: Update your `MaxPooling2D` call to the Keras 2 API: `MaxPooling2D((2, 2), padding=\"same\")`\n",
            "  # This is added back by InteractiveShellApp.init_path()\n",
            "/usr/local/lib/python3.6/dist-packages/ipykernel_launcher.py:15: UserWarning: Update your `Conv2D` call to the Keras 2 API: `Conv2D(8, (3, 3), activation=\"relu\", padding=\"same\")`\n",
            "  from ipykernel import kernelapp as app\n",
            "/usr/local/lib/python3.6/dist-packages/ipykernel_launcher.py:17: UserWarning: Update your `Conv2D` call to the Keras 2 API: `Conv2D(8, (3, 3), activation=\"relu\", padding=\"same\")`\n",
            "/usr/local/lib/python3.6/dist-packages/ipykernel_launcher.py:19: UserWarning: Update your `Conv2D` call to the Keras 2 API: `Conv2D(16, (3, 3), activation=\"relu\")`\n",
            "/usr/local/lib/python3.6/dist-packages/ipykernel_launcher.py:21: UserWarning: Update your `Conv2D` call to the Keras 2 API: `Conv2D(1, (3, 3), activation=\"sigmoid\", padding=\"same\")`\n"
          ],
          "name": "stderr"
        }
      ]
    },
    {
      "metadata": {
        "id": "pB3EI8nmk7tr",
        "colab_type": "code",
        "outputId": "cf5ebeb2-1d63-40a7-be10-2f595b6a44ad",
        "colab": {
          "base_uri": "https://localhost:8080/",
          "height": 34
        }
      },
      "cell_type": "code",
      "source": [
        "import numpy as np\n",
        "X_train = X_train.reshape(-1, 28,28, 1)\n",
        "X_test = X_test.reshape(-1, 28,28, 1)\n",
        "X_train.shape, X_test.shape"
      ],
      "execution_count": 0,
      "outputs": [
        {
          "output_type": "execute_result",
          "data": {
            "text/plain": [
              "((60000, 28, 28, 1), (10000, 28, 28, 1))"
            ]
          },
          "metadata": {
            "tags": []
          },
          "execution_count": 35
        }
      ]
    },
    {
      "metadata": {
        "id": "PF3KgcT2k7lR",
        "colab_type": "code",
        "outputId": "ff5a4e69-8eee-4961-8832-9cf283dd04f1",
        "colab": {
          "base_uri": "https://localhost:8080/",
          "height": 1734
        }
      },
      "cell_type": "code",
      "source": [
        "\n",
        "h2=autoencoder.fit(X_train, X_train,\n",
        "                epochs=50,\n",
        "                batch_size=128,\n",
        "                shuffle=True,\n",
        "                validation_data=(X_test, X_test),\n",
        "               )"
      ],
      "execution_count": 0,
      "outputs": [
        {
          "output_type": "stream",
          "text": [
            "Train on 60000 samples, validate on 10000 samples\n",
            "Epoch 1/50\n",
            "60000/60000 [==============================] - 4s 65us/step - loss: 0.0400 - val_loss: 0.0220\n",
            "Epoch 2/50\n",
            "60000/60000 [==============================] - 3s 52us/step - loss: 0.0203 - val_loss: 0.0191\n",
            "Epoch 3/50\n",
            "60000/60000 [==============================] - 3s 52us/step - loss: 0.0184 - val_loss: 0.0178\n",
            "Epoch 4/50\n",
            "60000/60000 [==============================] - 3s 52us/step - loss: 0.0173 - val_loss: 0.0170\n",
            "Epoch 5/50\n",
            "60000/60000 [==============================] - 3s 52us/step - loss: 0.0166 - val_loss: 0.0164\n",
            "Epoch 6/50\n",
            "60000/60000 [==============================] - 3s 52us/step - loss: 0.0160 - val_loss: 0.0159\n",
            "Epoch 7/50\n",
            "60000/60000 [==============================] - 3s 52us/step - loss: 0.0156 - val_loss: 0.0159\n",
            "Epoch 8/50\n",
            "60000/60000 [==============================] - 3s 52us/step - loss: 0.0152 - val_loss: 0.0151\n",
            "Epoch 9/50\n",
            "60000/60000 [==============================] - 3s 52us/step - loss: 0.0149 - val_loss: 0.0148\n",
            "Epoch 10/50\n",
            "60000/60000 [==============================] - 3s 52us/step - loss: 0.0146 - val_loss: 0.0146\n",
            "Epoch 11/50\n",
            "60000/60000 [==============================] - 3s 52us/step - loss: 0.0144 - val_loss: 0.0143\n",
            "Epoch 12/50\n",
            "60000/60000 [==============================] - 3s 51us/step - loss: 0.0143 - val_loss: 0.0143\n",
            "Epoch 13/50\n",
            "60000/60000 [==============================] - 3s 52us/step - loss: 0.0141 - val_loss: 0.0140\n",
            "Epoch 14/50\n",
            "60000/60000 [==============================] - 3s 52us/step - loss: 0.0139 - val_loss: 0.0139\n",
            "Epoch 15/50\n",
            "60000/60000 [==============================] - 3s 52us/step - loss: 0.0137 - val_loss: 0.0138\n",
            "Epoch 16/50\n",
            "60000/60000 [==============================] - 3s 52us/step - loss: 0.0136 - val_loss: 0.0136\n",
            "Epoch 17/50\n",
            "60000/60000 [==============================] - 3s 51us/step - loss: 0.0135 - val_loss: 0.0134\n",
            "Epoch 18/50\n",
            "60000/60000 [==============================] - 3s 52us/step - loss: 0.0133 - val_loss: 0.0133\n",
            "Epoch 19/50\n",
            "60000/60000 [==============================] - 3s 51us/step - loss: 0.0132 - val_loss: 0.0132\n",
            "Epoch 20/50\n",
            "60000/60000 [==============================] - 3s 51us/step - loss: 0.0131 - val_loss: 0.0131\n",
            "Epoch 21/50\n",
            "60000/60000 [==============================] - 3s 54us/step - loss: 0.0130 - val_loss: 0.0130\n",
            "Epoch 22/50\n",
            "60000/60000 [==============================] - 3s 58us/step - loss: 0.0130 - val_loss: 0.0130\n",
            "Epoch 23/50\n",
            "60000/60000 [==============================] - 4s 59us/step - loss: 0.0129 - val_loss: 0.0129\n",
            "Epoch 24/50\n",
            "60000/60000 [==============================] - 3s 55us/step - loss: 0.0128 - val_loss: 0.0128\n",
            "Epoch 25/50\n",
            "60000/60000 [==============================] - 3s 52us/step - loss: 0.0127 - val_loss: 0.0129\n",
            "Epoch 26/50\n",
            "60000/60000 [==============================] - 3s 51us/step - loss: 0.0127 - val_loss: 0.0127\n",
            "Epoch 27/50\n",
            "60000/60000 [==============================] - 3s 52us/step - loss: 0.0126 - val_loss: 0.0127\n",
            "Epoch 28/50\n",
            "60000/60000 [==============================] - 3s 52us/step - loss: 0.0126 - val_loss: 0.0126\n",
            "Epoch 29/50\n",
            "60000/60000 [==============================] - 3s 52us/step - loss: 0.0125 - val_loss: 0.0128\n",
            "Epoch 30/50\n",
            "60000/60000 [==============================] - 3s 51us/step - loss: 0.0125 - val_loss: 0.0125\n",
            "Epoch 31/50\n",
            "60000/60000 [==============================] - 3s 52us/step - loss: 0.0124 - val_loss: 0.0124\n",
            "Epoch 32/50\n",
            "60000/60000 [==============================] - 3s 51us/step - loss: 0.0124 - val_loss: 0.0124\n",
            "Epoch 33/50\n",
            "60000/60000 [==============================] - 3s 51us/step - loss: 0.0123 - val_loss: 0.0123\n",
            "Epoch 34/50\n",
            "60000/60000 [==============================] - 3s 52us/step - loss: 0.0123 - val_loss: 0.0123\n",
            "Epoch 35/50\n",
            "60000/60000 [==============================] - 3s 52us/step - loss: 0.0123 - val_loss: 0.0123\n",
            "Epoch 36/50\n",
            "60000/60000 [==============================] - 3s 51us/step - loss: 0.0122 - val_loss: 0.0124\n",
            "Epoch 37/50\n",
            "60000/60000 [==============================] - 3s 49us/step - loss: 0.0122 - val_loss: 0.0122\n",
            "Epoch 38/50\n",
            "60000/60000 [==============================] - 3s 51us/step - loss: 0.0121 - val_loss: 0.0123\n",
            "Epoch 39/50\n",
            "60000/60000 [==============================] - 3s 51us/step - loss: 0.0121 - val_loss: 0.0121\n",
            "Epoch 40/50\n",
            "60000/60000 [==============================] - 3s 51us/step - loss: 0.0121 - val_loss: 0.0122\n",
            "Epoch 41/50\n",
            "60000/60000 [==============================] - 3s 51us/step - loss: 0.0120 - val_loss: 0.0121\n",
            "Epoch 42/50\n",
            "60000/60000 [==============================] - 3s 53us/step - loss: 0.0120 - val_loss: 0.0121\n",
            "Epoch 43/50\n",
            "60000/60000 [==============================] - 3s 54us/step - loss: 0.0120 - val_loss: 0.0120\n",
            "Epoch 44/50\n",
            "60000/60000 [==============================] - 3s 53us/step - loss: 0.0120 - val_loss: 0.0120\n",
            "Epoch 45/50\n",
            "60000/60000 [==============================] - 3s 53us/step - loss: 0.0119 - val_loss: 0.0121\n",
            "Epoch 46/50\n",
            "60000/60000 [==============================] - 3s 53us/step - loss: 0.0119 - val_loss: 0.0120\n",
            "Epoch 47/50\n",
            "60000/60000 [==============================] - 3s 58us/step - loss: 0.0119 - val_loss: 0.0119\n",
            "Epoch 48/50\n",
            "60000/60000 [==============================] - 4s 59us/step - loss: 0.0119 - val_loss: 0.0119\n",
            "Epoch 49/50\n",
            "60000/60000 [==============================] - 4s 58us/step - loss: 0.0119 - val_loss: 0.0119\n",
            "Epoch 50/50\n",
            "60000/60000 [==============================] - 3s 51us/step - loss: 0.0118 - val_loss: 0.0119\n"
          ],
          "name": "stdout"
        }
      ]
    },
    {
      "metadata": {
        "id": "PzNr-flRAVXh",
        "colab_type": "code",
        "outputId": "e270dc2d-3f68-4e77-a55e-b48afe89d7cf",
        "colab": {
          "base_uri": "https://localhost:8080/",
          "height": 295
        }
      },
      "cell_type": "code",
      "source": [
        "# summarize history for loss\n",
        "plt.plot(h2.history['loss'])\n",
        "plt.plot(h2.history['val_loss'])\n",
        "plt.title('model loss')\n",
        "plt.ylabel('loss')\n",
        "plt.xlabel('epoch')\n",
        "plt.legend(['loss', 'val_loss'], loc='upper left')\n",
        "plt.show()"
      ],
      "execution_count": 0,
      "outputs": [
        {
          "output_type": "display_data",
          "data": {
            "image/png": "[encoded data removed]",
            "text/plain": [
              "<Figure size 432x288 with 1 Axes>"
            ]
          },
          "metadata": {
            "tags": []
          }
        }
      ]
    },
    {
      "metadata": {
        "id": "S2gHTXsMAVdb",
        "colab_type": "code",
        "colab": {}
      },
      "cell_type": "code",
      "source": [
        ""
      ],
      "execution_count": 0,
      "outputs": []
    },
    {
      "metadata": {
        "id": "37_gIVXDbmGf",
        "colab_type": "code",
        "outputId": "184bb58f-2169-47c5-c586-2e733ff76200",
        "colab": {
          "base_uri": "https://localhost:8080/",
          "height": 244
        }
      },
      "cell_type": "code",
      "source": [
        "#plot 10 samples\n",
        "decoded_imgs = autoencoder.predict(X_test)\n",
        "\n",
        "n = 10\n",
        "plt.figure(figsize=(20, 4))\n",
        "for i in range(n):\n",
        "    # display original\n",
        "    ax = plt.subplot(2, n, i+1)\n",
        "    plt.imshow(X_test[i].reshape(28, 28))\n",
        "    plt.gray()\n",
        "    ax.get_xaxis().set_visible(False)\n",
        "    ax.get_yaxis().set_visible(False)\n",
        "\n",
        "    # display reconstruction\n",
        "    ax = plt.subplot(2, n, i + n+1)\n",
        "    plt.imshow(decoded_imgs[i].reshape(28, 28))\n",
        "    plt.gray()\n",
        "    ax.get_xaxis().set_visible(False)\n",
        "    ax.get_yaxis().set_visible(False)\n",
        "plt.show()"
      ],
      "execution_count": 0,
      "outputs": [
        {
          "output_type": "display_data",
          "data": {
            "image/png": "[encoded data removed]",
            "text/plain": [
              "<Figure size 1440x288 with 20 Axes>"
            ]
          },
          "metadata": {
            "tags": []
          }
        }
      ]
    },
    {
      "metadata": {
        "id": "EWdeeiZ-Hrwt",
        "colab_type": "code",
        "colab": {}
      },
      "cell_type": "code",
      "source": [
        ""
      ],
      "execution_count": 0,
      "outputs": []
    },
    {
      "metadata": {
        "id": "4E44AS7HHbN_",
        "colab_type": "code",
        "colab": {}
      },
      "cell_type": "code",
      "source": [
        "\n"
      ],
      "execution_count": 0,
      "outputs": []
    },
    {
      "metadata": {
        "id": "EIGuttd0IQbr",
        "colab_type": "code",
        "colab": {}
      },
      "cell_type": "code",
      "source": [
        ""
      ],
      "execution_count": 0,
      "outputs": []
    },
    {
      "metadata": {
        "id": "lCzmEr1k-eL9",
        "colab_type": "code",
        "colab": {}
      },
      "cell_type": "code",
      "source": [
        ""
      ],
      "execution_count": 0,
      "outputs": []
    }
  ]
}