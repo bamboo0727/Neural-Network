{
  "nbformat": 4,
  "nbformat_minor": 0,
  "metadata": {
    "colab": {
      "name": "learning rate&optimizers test for Fashion MNIST.ipynb",
      "version": "0.3.2",
      "provenance": [],
      "collapsed_sections": [],
      "include_colab_link": true
    },
    "kernelspec": {
      "name": "python3",
      "display_name": "Python 3"
    }
  },
  "cells": [
    {
      "cell_type": "markdown",
      "metadata": {
        "id": "view-in-github",
        "colab_type": "text"
      },
      "source": [
        "<a href=\"https://colab.research.google.com/github/bamboo0727/Neural-Network-Model/blob/master/learning_rate%26optimizers_test_for_Fashion_MNIST.ipynb\" target=\"_parent\"><img src=\"https://colab.research.google.com/assets/colab-badge.svg\" alt=\"Open In Colab\"/></a>"
      ]
    },
    {
      "metadata": {
        "id": "UPSmYcs5KDQV",
        "colab_type": "text"
      },
      "cell_type": "markdown",
      "source": [
        "# **Train  neural network: basic classification for Fashion MNIST**"
      ]
    },
    {
      "metadata": {
        "id": "ZAEfFjGsKQOX",
        "colab_type": "code",
        "outputId": "82a19060-61aa-4cd2-a2c8-66729e123109",
        "colab": {
          "base_uri": "https://localhost:8080/",
          "height": 35
        }
      },
      "cell_type": "code",
      "source": [
        "from __future__ import absolute_import, division, print_function\n",
        "\n",
        "# TensorFlow and tf.keras\n",
        "import tensorflow as tf\n",
        "from tensorflow import keras\n",
        "\n",
        "# Helper libraries\n",
        "import numpy as np\n",
        "import matplotlib.pyplot as plt\n",
        "from matplotlib import pyplot\n",
        "\n",
        "\n",
        "print(tf.__version__)"
      ],
      "execution_count": 0,
      "outputs": [
        {
          "output_type": "stream",
          "text": [
            "1.13.1\n"
          ],
          "name": "stdout"
        }
      ]
    },
    {
      "metadata": {
        "id": "WlKtAJ-NLTA6",
        "colab_type": "text"
      },
      "cell_type": "markdown",
      "source": [
        "## Import the Fashion MNIST dataset"
      ]
    },
    {
      "metadata": {
        "id": "iyFSFQMGLTzF",
        "colab_type": "code",
        "colab": {}
      },
      "cell_type": "code",
      "source": [
        "fashion_mnist = keras.datasets.fashion_mnist\n",
        "\n",
        "(train_images, train_labels), (test_images, test_labels) = fashion_mnist.load_data()"
      ],
      "execution_count": 0,
      "outputs": []
    },
    {
      "metadata": {
        "id": "oCf6fFl-NvwJ",
        "colab_type": "text"
      },
      "cell_type": "markdown",
      "source": [
        "## Explore the data"
      ]
    },
    {
      "metadata": {
        "id": "GBvts7zfO2ov",
        "colab_type": "text"
      },
      "cell_type": "markdown",
      "source": [
        "Loading the dataset returns four NumPy arrays:\n",
        "\n",
        "The train_images and train_labels arrays are the training set—the data the model uses to learn.\n",
        "The model is tested against the test set, the test_images, and test_labels arrays.\n",
        "The images are 28x28 NumPy arrays, with pixel values ranging between 0 and 255. The labels are an array of integers, ranging from 0 to 9. These correspond to the class of clothing the image represents:\n",
        "\n",
        "Label\tClass\n",
        "0\tT-shirt/top\n",
        "1\tTrouser\n",
        "2\tPullover\n",
        "3\tDress\n",
        "4\tCoat\n",
        "5\tSandal\n",
        "6\tShirt\n",
        "7\tSneaker\n",
        "8\tBag\n",
        "9\tAnkle boot\n",
        "Each image is mapped to a single label. Since the class names are not included with the dataset, store them here to use later when plotting the images:"
      ]
    },
    {
      "metadata": {
        "id": "KbsDjwyvOquV",
        "colab_type": "code",
        "colab": {}
      },
      "cell_type": "code",
      "source": [
        "class_names = ['T-shirt/top', 'Trouser', 'Pullover', 'Dress', 'Coat', \n",
        "               'Sandal', 'Shirt', 'Sneaker', 'Bag', 'Ankle boot']"
      ],
      "execution_count": 0,
      "outputs": []
    },
    {
      "metadata": {
        "id": "SfUfFwkGNm_W",
        "colab_type": "code",
        "outputId": "85a9a407-c47a-4903-9ade-954ae9bf9a9c",
        "colab": {
          "base_uri": "https://localhost:8080/",
          "height": 35
        }
      },
      "cell_type": "code",
      "source": [
        "train_images.shape\n"
      ],
      "execution_count": 0,
      "outputs": [
        {
          "output_type": "execute_result",
          "data": {
            "text/plain": [
              "(60000, 28, 28)"
            ]
          },
          "metadata": {
            "tags": []
          },
          "execution_count": 41
        }
      ]
    },
    {
      "metadata": {
        "id": "lveIlsKiOH7g",
        "colab_type": "code",
        "outputId": "9a954e20-f3c5-41f7-c6ec-569b4056202d",
        "colab": {
          "base_uri": "https://localhost:8080/",
          "height": 35
        }
      },
      "cell_type": "code",
      "source": [
        "train_labels.shape"
      ],
      "execution_count": 0,
      "outputs": [
        {
          "output_type": "execute_result",
          "data": {
            "text/plain": [
              "(60000,)"
            ]
          },
          "metadata": {
            "tags": []
          },
          "execution_count": 42
        }
      ]
    },
    {
      "metadata": {
        "id": "AJAdy9YMOINy",
        "colab_type": "code",
        "outputId": "24bf1b59-5155-4a7a-bc0c-8c08f9880dba",
        "colab": {
          "base_uri": "https://localhost:8080/",
          "height": 35
        }
      },
      "cell_type": "code",
      "source": [
        "test_images.shape"
      ],
      "execution_count": 0,
      "outputs": [
        {
          "output_type": "execute_result",
          "data": {
            "text/plain": [
              "(10000, 28, 28)"
            ]
          },
          "metadata": {
            "tags": []
          },
          "execution_count": 43
        }
      ]
    },
    {
      "metadata": {
        "id": "BKZK-J9BOIW2",
        "colab_type": "code",
        "outputId": "dff02a40-6655-47e4-8fb4-153051a8b876",
        "colab": {
          "base_uri": "https://localhost:8080/",
          "height": 35
        }
      },
      "cell_type": "code",
      "source": [
        "test_labels.shape"
      ],
      "execution_count": 0,
      "outputs": [
        {
          "output_type": "execute_result",
          "data": {
            "text/plain": [
              "(10000,)"
            ]
          },
          "metadata": {
            "tags": []
          },
          "execution_count": 44
        }
      ]
    },
    {
      "metadata": {
        "id": "YIUMQkq6PIQi",
        "colab_type": "code",
        "outputId": "bbc111a1-7046-4cbb-bd00-90c2742a1f52",
        "colab": {
          "base_uri": "https://localhost:8080/",
          "height": 35
        }
      },
      "cell_type": "code",
      "source": [
        "len(train_labels)"
      ],
      "execution_count": 0,
      "outputs": [
        {
          "output_type": "execute_result",
          "data": {
            "text/plain": [
              "60000"
            ]
          },
          "metadata": {
            "tags": []
          },
          "execution_count": 45
        }
      ]
    },
    {
      "metadata": {
        "id": "Xa98KXZTPctz",
        "colab_type": "text"
      },
      "cell_type": "markdown",
      "source": [
        "## Preprocess the data"
      ]
    },
    {
      "metadata": {
        "id": "vv_0NM-9Pz1M",
        "colab_type": "text"
      },
      "cell_type": "markdown",
      "source": [
        " If we inspect the first image in the training set, we will see that the pixel values fall in the range of 0 to 255:\n",
        "\n",
        "> Indented block\n",
        "\n"
      ]
    },
    {
      "metadata": {
        "id": "K3ZiGw3-Pep3",
        "colab_type": "code",
        "outputId": "d06eccdf-428b-4d4c-d403-4af53c6acdc8",
        "colab": {
          "base_uri": "https://localhost:8080/",
          "height": 347
        }
      },
      "cell_type": "code",
      "source": [
        "plt.figure()\n",
        "plt.imshow(train_images[0])\n",
        "plt.colorbar()\n",
        "plt.grid(False)\n",
        "plt.show()"
      ],
      "execution_count": 0,
      "outputs": [
        {
          "output_type": "display_data",
          "data": {
            "image/png": "[encoded data removed]",
            "text/plain": [
              "<Figure size 576x396 with 2 Axes>"
            ]
          },
          "metadata": {
            "tags": []
          }
        }
      ]
    },
    {
      "metadata": {
        "id": "xcJdFPSESYdT",
        "colab_type": "code",
        "colab": {}
      },
      "cell_type": "code",
      "source": [
        "train_images = train_images / 255.0\n",
        "\n",
        "test_images = test_images / 255.0"
      ],
      "execution_count": 0,
      "outputs": []
    },
    {
      "metadata": {
        "id": "LSaFv3L8ScPM",
        "colab_type": "code",
        "outputId": "69837fd1-52be-4d9e-97e9-5f302d471d02",
        "colab": {
          "base_uri": "https://localhost:8080/",
          "height": 589
        }
      },
      "cell_type": "code",
      "source": [
        "plt.figure(figsize=(10,10))\n",
        "for i in range(25):\n",
        "    plt.subplot(5,5,i+1)\n",
        "    plt.xticks([])\n",
        "    plt.yticks([])\n",
        "    plt.grid(False)\n",
        "    plt.imshow(train_images[i], cmap=plt.cm.binary)\n",
        "    plt.xlabel(class_names[train_labels[i]])\n",
        "plt.show()"
      ],
      "execution_count": 0,
      "outputs": [
        {
          "output_type": "display_data",
          "data": {
            "image/png": "[encoded data removed]",
            "text/plain": [
              "<Figure size 720x720 with 25 Axes>"
            ]
          },
          "metadata": {
            "tags": []
          }
        }
      ]
    },
    {
      "metadata": {
        "id": "Q0TVrwX1jtw3",
        "colab_type": "text"
      },
      "cell_type": "markdown",
      "source": [
        "## Build and Compile the model"
      ]
    },
    {
      "metadata": {
        "id": "hCqdcXf6jvNK",
        "colab_type": "code",
        "colab": {}
      },
      "cell_type": "code",
      "source": [
        "model = keras.Sequential([\n",
        "    keras.layers.Flatten(input_shape=(28, 28)),\n",
        "    keras.layers.Dense(128, activation=tf.nn.relu),\n",
        "    keras.layers.Dense(10, activation=tf.nn.softmax)\n",
        "])"
      ],
      "execution_count": 0,
      "outputs": []
    },
    {
      "metadata": {
        "id": "nHqQoTkMj0xx",
        "colab_type": "code",
        "colab": {}
      },
      "cell_type": "code",
      "source": [
        "model.compile(optimizer='adam', \n",
        "              loss='sparse_categorical_crossentropy',\n",
        "              metrics=['accuracy'])"
      ],
      "execution_count": 0,
      "outputs": []
    },
    {
      "metadata": {
        "id": "673VmB7wk5yh",
        "colab_type": "text"
      },
      "cell_type": "markdown",
      "source": [
        "## Train the model"
      ]
    },
    {
      "metadata": {
        "id": "bevTMYz3kwrB",
        "colab_type": "code",
        "outputId": "df34956c-3191-47f7-c867-bbcf23867358",
        "colab": {
          "base_uri": "https://localhost:8080/",
          "height": 215
        }
      },
      "cell_type": "code",
      "source": [
        "model.fit(train_images, train_labels, epochs=5)"
      ],
      "execution_count": 0,
      "outputs": [
        {
          "output_type": "stream",
          "text": [
            "Epoch 1/5\n",
            "60000/60000 [==============================] - 10s 168us/sample - loss: 0.4998 - acc: 0.8255\n",
            "Epoch 2/5\n",
            "60000/60000 [==============================] - 10s 161us/sample - loss: 0.3761 - acc: 0.8639\n",
            "Epoch 3/5\n",
            "60000/60000 [==============================] - 10s 160us/sample - loss: 0.3364 - acc: 0.8769\n",
            "Epoch 4/5\n",
            "60000/60000 [==============================] - 10s 159us/sample - loss: 0.3127 - acc: 0.8842\n",
            "Epoch 5/5\n",
            "60000/60000 [==============================] - 10s 163us/sample - loss: 0.2930 - acc: 0.8918\n"
          ],
          "name": "stdout"
        },
        {
          "output_type": "execute_result",
          "data": {
            "text/plain": [
              "<tensorflow.python.keras.callbacks.History at 0x7f4f779b87f0>"
            ]
          },
          "metadata": {
            "tags": []
          },
          "execution_count": 51
        }
      ]
    },
    {
      "metadata": {
        "id": "BTuy1ZY5lY6E",
        "colab_type": "code",
        "outputId": "a3a615d5-3de9-4642-c88c-2ba0c68673f0",
        "colab": {
          "base_uri": "https://localhost:8080/",
          "height": 53
        }
      },
      "cell_type": "code",
      "source": [
        "test_loss, test_acc = model.evaluate(test_images, test_labels)\n",
        "\n",
        "print('Test accuracy:', test_acc)"
      ],
      "execution_count": 0,
      "outputs": [
        {
          "output_type": "stream",
          "text": [
            "10000/10000 [==============================] - 1s 113us/sample - loss: 0.3989 - acc: 0.8586\n",
            "Test accuracy: 0.8586\n"
          ],
          "name": "stdout"
        }
      ]
    },
    {
      "metadata": {
        "id": "f04tlDtw258_",
        "colab_type": "code",
        "colab": {}
      },
      "cell_type": "code",
      "source": [
        "from keras import optimizers\n",
        "import numpy as np\n",
        "import pandas as pd"
      ],
      "execution_count": 0,
      "outputs": []
    },
    {
      "metadata": {
        "id": "M2HMFvAj6xDT",
        "colab_type": "code",
        "outputId": "20c9b12b-e221-4b94-bef1-b4049a0c0053",
        "colab": {
          "base_uri": "https://localhost:8080/",
          "height": 125
        }
      },
      "cell_type": "code",
      "source": [
        "def get_new_model( ):\n",
        "    model = keras.Sequential([\n",
        "            keras.layers.Flatten(input_shape=(28, 28)),\n",
        "            keras.layers.Dense(128, activation=tf.nn.relu),\n",
        "            keras.layers.Dense(10, activation=tf.nn.softmax)])\n",
        "\n",
        "    return(model)\n",
        "a=[]\n",
        "\n",
        "lr_to_test = [.000001,0.0001,0.001,0.01,0.1,1]\n",
        "# loop over learning rates\n",
        "for lr in lr_to_test:\n",
        " model1 = get_new_model()\n",
        " sgd = keras.optimizers.SGD(lr=lr)\n",
        " model1.compile(optimizer = sgd, loss = 'sparse_categorical_crossentropy',metrics=['accuracy'])\n",
        " model_sgd=model1.fit(train_images, train_labels)\n",
        " a.append(model_sgd.history['acc'])\n",
        " "
      ],
      "execution_count": 0,
      "outputs": [
        {
          "output_type": "stream",
          "text": [
            "60000/60000 [==============================] - 13s 218us/sample - loss: 2.4677 - acc: 0.0972\n",
            "60000/60000 [==============================] - 12s 202us/sample - loss: 2.1215 - acc: 0.2456\n",
            "60000/60000 [==============================] - 13s 212us/sample - loss: 1.3897 - acc: 0.5883\n",
            "60000/60000 [==============================] - 13s 217us/sample - loss: 0.7287 - acc: 0.7630\n",
            "60000/60000 [==============================] - 13s 217us/sample - loss: 0.5350 - acc: 0.8094\n",
            "60000/60000 [==============================] - 13s 212us/sample - loss: 2.2799 - acc: 0.1536\n"
          ],
          "name": "stdout"
        }
      ]
    },
    {
      "metadata": {
        "id": "Xqe9DZziBFA8",
        "colab_type": "code",
        "outputId": "ee750f9f-6be0-4c5d-d5d7-1e651eaef270",
        "colab": {
          "base_uri": "https://localhost:8080/",
          "height": 125
        }
      },
      "cell_type": "code",
      "source": [
        "b=[]\n",
        "for lr in lr_to_test:\n",
        " model2 = get_new_model()\n",
        " adam =keras.optimizers.Adam(lr=lr)\n",
        " model2.compile(optimizer = adam, loss = 'sparse_categorical_crossentropy',metrics=['accuracy'])\n",
        " model_adam=model2.fit(train_images, train_labels)\n",
        " b.append(model_adam.history['acc'])\n",
        "\n",
        "\n",
        "  "
      ],
      "execution_count": 0,
      "outputs": [
        {
          "output_type": "stream",
          "text": [
            "60000/60000 [==============================] - 19s 309us/sample - loss: 2.2118 - acc: 0.2052\n",
            "60000/60000 [==============================] - 18s 306us/sample - loss: 0.7090 - acc: 0.7686\n",
            "60000/60000 [==============================] - 18s 301us/sample - loss: 0.4986 - acc: 0.8254\n",
            "60000/60000 [==============================] - 15s 257us/sample - loss: 0.5222 - acc: 0.8124\n",
            "60000/60000 [==============================] - 15s 255us/sample - loss: 14.4888 - acc: 0.1006\n",
            "60000/60000 [==============================] - 17s 290us/sample - loss: 14.5014 - acc: 0.0999\n"
          ],
          "name": "stdout"
        }
      ]
    },
    {
      "metadata": {
        "id": "N-h27Ca0BNE2",
        "colab_type": "code",
        "outputId": "13cf5135-e58b-4526-fbd4-9307b1210634",
        "colab": {
          "base_uri": "https://localhost:8080/",
          "height": 125
        }
      },
      "cell_type": "code",
      "source": [
        "c=[]\n",
        "for lr in lr_to_test:\n",
        " model3 = get_new_model()\n",
        " adagrad = keras.optimizers.Adagrad(lr=lr)\n",
        " model3.compile(optimizer = adagrad, loss = 'sparse_categorical_crossentropy',metrics=['accuracy'])\n",
        " model_adagrad=model3.fit(train_images, train_labels)\n",
        " c.append(model_adagrad.history['acc'])\n",
        "\n",
        "  \n",
        "\n",
        "  "
      ],
      "execution_count": 0,
      "outputs": [
        {
          "output_type": "stream",
          "text": [
            "60000/60000 [==============================] - 17s 279us/sample - loss: 2.3251 - acc: 0.1214\n",
            "60000/60000 [==============================] - 16s 269us/sample - loss: 1.5371 - acc: 0.5457\n",
            "60000/60000 [==============================] - 16s 272us/sample - loss: 0.7270 - acc: 0.7708\n",
            "60000/60000 [==============================] - 17s 277us/sample - loss: 0.5100 - acc: 0.8231\n",
            "60000/60000 [==============================] - 16s 273us/sample - loss: 14.5001 - acc: 0.1000\n",
            "60000/60000 [==============================] - 17s 276us/sample - loss: 14.5031 - acc: 0.0998\n"
          ],
          "name": "stdout"
        }
      ]
    },
    {
      "metadata": {
        "id": "WmlGTnvwBOHh",
        "colab_type": "code",
        "outputId": "22ee2758-4d58-410c-f853-65b8db75c769",
        "colab": {
          "base_uri": "https://localhost:8080/",
          "height": 125
        }
      },
      "cell_type": "code",
      "source": [
        "d=[]\n",
        "for lr in lr_to_test:\n",
        " model4 = get_new_model()\n",
        " adadelta =keras.optimizers.Adadelta(lr=lr)\n",
        " model4.compile(optimizer = adadelta, loss = 'sparse_categorical_crossentropy',metrics=['accuracy'])\n",
        " model_adadelta=model4.fit(train_images, train_labels)\n",
        " d.append(model_adadelta.history['acc'])\n",
        " \n"
      ],
      "execution_count": 0,
      "outputs": [
        {
          "output_type": "stream",
          "text": [
            "60000/60000 [==============================] - 18s 300us/sample - loss: 2.4524 - acc: 0.1020\n",
            "60000/60000 [==============================] - 17s 280us/sample - loss: 2.4493 - acc: 0.1165\n",
            "60000/60000 [==============================] - 20s 326us/sample - loss: 2.1488 - acc: 0.2289\n",
            "60000/60000 [==============================] - 20s 336us/sample - loss: 1.3216 - acc: 0.6083\n",
            "60000/60000 [==============================] - 20s 327us/sample - loss: 0.7008 - acc: 0.7738\n",
            "60000/60000 [==============================] - 20s 331us/sample - loss: 0.5134 - acc: 0.8192\n"
          ],
          "name": "stdout"
        }
      ]
    },
    {
      "metadata": {
        "id": "w6sA4FqLBOQt",
        "colab_type": "code",
        "outputId": "f0cb91c2-f1e9-4469-ee62-3d7c93b60a4b",
        "colab": {
          "base_uri": "https://localhost:8080/",
          "height": 125
        }
      },
      "cell_type": "code",
      "source": [
        "e=[]\n",
        "for lr in lr_to_test:\n",
        " model5 = get_new_model()\n",
        " rmsprop = keras.optimizers.RMSprop(lr=lr)\n",
        " model5.compile(optimizer = rmsprop, loss = 'sparse_categorical_crossentropy',metrics=['accuracy'])\n",
        " model_remsprop=model5.fit(train_images, train_labels) \n",
        " e.append(model_remsprop.history['acc'])\n"
      ],
      "execution_count": 0,
      "outputs": [
        {
          "output_type": "stream",
          "text": [
            "60000/60000 [==============================] - 18s 301us/sample - loss: 2.2328 - acc: 0.1561\n",
            "60000/60000 [==============================] - 18s 303us/sample - loss: 0.6986 - acc: 0.7746\n",
            "60000/60000 [==============================] - 18s 301us/sample - loss: 0.5035 - acc: 0.8211\n",
            "60000/60000 [==============================] - 18s 302us/sample - loss: 0.6423 - acc: 0.7936\n",
            "60000/60000 [==============================] - 18s 307us/sample - loss: 14.4999 - acc: 0.1000\n",
            "60000/60000 [==============================] - 18s 306us/sample - loss: 14.5001 - acc: 0.1000\n"
          ],
          "name": "stdout"
        }
      ]
    },
    {
      "metadata": {
        "id": "EMcc8yFINzn6",
        "colab_type": "code",
        "outputId": "19de84da-8e12-4d6a-ad06-ea9a1a5ecf88",
        "colab": {
          "base_uri": "https://localhost:8080/",
          "height": 35
        }
      },
      "cell_type": "code",
      "source": [
        "a"
      ],
      "execution_count": 0,
      "outputs": [
        {
          "output_type": "execute_result",
          "data": {
            "text/plain": [
              "[[0.09725], [0.24563333], [0.5883333], [0.76295], [0.8094], [0.15358333]]"
            ]
          },
          "metadata": {
            "tags": []
          },
          "execution_count": 98
        }
      ]
    },
    {
      "metadata": {
        "id": "ealqhzKWSRoF",
        "colab_type": "code",
        "outputId": "2146fd43-4d41-4387-bf0b-dd1d8d4af6b7",
        "colab": {
          "base_uri": "https://localhost:8080/",
          "height": 376
        }
      },
      "cell_type": "code",
      "source": [
        "\n",
        "plt.plot(a)\n",
        "plt.plot(b)\n",
        "plt.plot(c)\n",
        "plt.plot(d)\n",
        "plt.plot(e)\n",
        "plt.xticks([0,1,2,3,4,5],['0.000001','0.0001','0.001','0.01','0.1','1'])\n",
        "plt.title('optimizer & learning rate')\n",
        "plt.ylabel('accuracy')\n",
        "plt.xlabel('learning rate')\n",
        "plt.legend(['SDG', 'Adam','Adagrad','Adadelta','RMSprop'])\n",
        "plt.show()\n"
      ],
      "execution_count": 0,
      "outputs": [
        {
          "output_type": "display_data",
          "data": {
            "image/png": "[encoded data removed]",
            "text/plain": [
              "<Figure size 576x396 with 1 Axes>"
            ]
          },
          "metadata": {
            "tags": []
          }
        }
      ]
    }
  ]
}