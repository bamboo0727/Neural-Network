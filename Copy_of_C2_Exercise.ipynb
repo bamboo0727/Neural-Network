{
  "nbformat": 4,
  "nbformat_minor": 0,
  "metadata": {
    "colab": {
      "name": "Copy of C2. Exercise.ipynb",
      "version": "0.3.2",
      "provenance": [],
      "collapsed_sections": [],
      "include_colab_link": true
    },
    "kernelspec": {
      "name": "python3",
      "display_name": "Python 3"
    }
  },
  "cells": [
    {
      "cell_type": "markdown",
      "metadata": {
        "id": "view-in-github",
        "colab_type": "text"
      },
      "source": [
        "<a href=\"https://colab.research.google.com/github/bamboo0727/Neural-Network-Model/blob/master/Copy_of_C2_Exercise.ipynb\" target=\"_parent\"><img src=\"https://colab.research.google.com/assets/colab-badge.svg\" alt=\"Open In Colab\"/></a>"
      ]
    },
    {
      "metadata": {
        "id": "xngjpzBreVJR",
        "colab_type": "text"
      },
      "cell_type": "markdown",
      "source": [
        "# Simple Housing Dataset\n",
        "Create a regression model that predicts the price of boston house"
      ]
    },
    {
      "metadata": {
        "id": "fSXwO4idDj76",
        "colab_type": "code",
        "outputId": "32ba5c1c-8599-4eef-e08c-2d7e104c1f38",
        "colab": {
          "base_uri": "https://localhost:8080/",
          "height": 215
        }
      },
      "cell_type": "code",
      "source": [
        "!wget https://storage.googleapis.com/nicksdemobucket/housing-data.csv"
      ],
      "execution_count": 0,
      "outputs": [
        {
          "output_type": "stream",
          "text": [
            "--2019-03-23 03:08:24--  https://storage.googleapis.com/nicksdemobucket/housing-data.csv\n",
            "Resolving storage.googleapis.com (storage.googleapis.com)... 74.125.141.128, 2607:f8b0:400c:c06::80\n",
            "Connecting to storage.googleapis.com (storage.googleapis.com)|74.125.141.128|:443... connected.\n",
            "HTTP request sent, awaiting response... 200 OK\n",
            "Length: 816 [application/octet-stream]\n",
            "Saving to: ‘housing-data.csv.1’\n",
            "\n",
            "\rhousing-data.csv.1    0%[                    ]       0  --.-KB/s               \rhousing-data.csv.1  100%[===================>]     816  --.-KB/s    in 0s      \n",
            "\n",
            "2019-03-23 03:08:24 (16.8 MB/s) - ‘housing-data.csv.1’ saved [816/816]\n",
            "\n"
          ],
          "name": "stdout"
        }
      ]
    },
    {
      "metadata": {
        "id": "mDBTPpUtR_i1",
        "colab_type": "code",
        "colab": {}
      },
      "cell_type": "code",
      "source": [
        "import pandas as pd\n",
        "import numpy as np\n",
        "df=pd.read_csv('housing-data.csv')"
      ],
      "execution_count": 0,
      "outputs": []
    },
    {
      "metadata": {
        "id": "CTCFPGbaSSiQ",
        "colab_type": "code",
        "outputId": "407f2302-f9e3-44df-8287-b6f7204db702",
        "colab": {
          "base_uri": "https://localhost:8080/",
          "height": 204
        }
      },
      "cell_type": "code",
      "source": [
        "df.head()"
      ],
      "execution_count": 0,
      "outputs": [
        {
          "output_type": "execute_result",
          "data": {
            "text/html": [
              "<div>\n",
              "<style scoped>\n",
              "    .dataframe tbody tr th:only-of-type {\n",
              "        vertical-align: middle;\n",
              "    }\n",
              "\n",
              "    .dataframe tbody tr th {\n",
              "        vertical-align: top;\n",
              "    }\n",
              "\n",
              "    .dataframe thead th {\n",
              "        text-align: right;\n",
              "    }\n",
              "</style>\n",
              "<table border=\"1\" class=\"dataframe\">\n",
              "  <thead>\n",
              "    <tr style=\"text-align: right;\">\n",
              "      <th></th>\n",
              "      <th>sqft</th>\n",
              "      <th>bdrms</th>\n",
              "      <th>age</th>\n",
              "      <th>price</th>\n",
              "    </tr>\n",
              "  </thead>\n",
              "  <tbody>\n",
              "    <tr>\n",
              "      <th>0</th>\n",
              "      <td>2104</td>\n",
              "      <td>3</td>\n",
              "      <td>70</td>\n",
              "      <td>399900</td>\n",
              "    </tr>\n",
              "    <tr>\n",
              "      <th>1</th>\n",
              "      <td>1600</td>\n",
              "      <td>3</td>\n",
              "      <td>28</td>\n",
              "      <td>329900</td>\n",
              "    </tr>\n",
              "    <tr>\n",
              "      <th>2</th>\n",
              "      <td>2400</td>\n",
              "      <td>3</td>\n",
              "      <td>44</td>\n",
              "      <td>369000</td>\n",
              "    </tr>\n",
              "    <tr>\n",
              "      <th>3</th>\n",
              "      <td>1416</td>\n",
              "      <td>2</td>\n",
              "      <td>49</td>\n",
              "      <td>232000</td>\n",
              "    </tr>\n",
              "    <tr>\n",
              "      <th>4</th>\n",
              "      <td>3000</td>\n",
              "      <td>4</td>\n",
              "      <td>75</td>\n",
              "      <td>539900</td>\n",
              "    </tr>\n",
              "  </tbody>\n",
              "</table>\n",
              "</div>"
            ],
            "text/plain": [
              "   sqft  bdrms  age   price\n",
              "0  2104      3   70  399900\n",
              "1  1600      3   28  329900\n",
              "2  2400      3   44  369000\n",
              "3  1416      2   49  232000\n",
              "4  3000      4   75  539900"
            ]
          },
          "metadata": {
            "tags": []
          },
          "execution_count": 110
        }
      ]
    },
    {
      "metadata": {
        "id": "i3CgJHwmSajy",
        "colab_type": "code",
        "outputId": "efa1b01b-cb70-4e34-82e3-9ba898e12eeb",
        "colab": {
          "base_uri": "https://localhost:8080/",
          "height": 35
        }
      },
      "cell_type": "code",
      "source": [
        "X=df.drop(['price'],axis=1).values\n",
        "X.shape"
      ],
      "execution_count": 0,
      "outputs": [
        {
          "output_type": "execute_result",
          "data": {
            "text/plain": [
              "(47, 3)"
            ]
          },
          "metadata": {
            "tags": []
          },
          "execution_count": 111
        }
      ]
    },
    {
      "metadata": {
        "id": "rW-gPS8PTGYa",
        "colab_type": "code",
        "outputId": "e8a47ad1-e873-4f00-ee47-a310c455c5db",
        "colab": {
          "base_uri": "https://localhost:8080/",
          "height": 35
        }
      },
      "cell_type": "code",
      "source": [
        "y=df[['price']].values\n",
        "y.shape"
      ],
      "execution_count": 0,
      "outputs": [
        {
          "output_type": "execute_result",
          "data": {
            "text/plain": [
              "(47, 1)"
            ]
          },
          "metadata": {
            "tags": []
          },
          "execution_count": 112
        }
      ]
    },
    {
      "metadata": {
        "id": "JvEDxb2wTZKx",
        "colab_type": "code",
        "colab": {}
      },
      "cell_type": "code",
      "source": [
        "from tensorflow.keras.models import Sequential\n",
        "from tensorflow.keras.layers import Dense\n",
        "from tensorflow.train import AdamOptimizer"
      ],
      "execution_count": 0,
      "outputs": []
    },
    {
      "metadata": {
        "id": "WjballWmTf6a",
        "colab_type": "code",
        "colab": {}
      },
      "cell_type": "code",
      "source": [
        "model = Sequential()\n",
        "\n",
        "model.add(Dense(3, input_shape=(3,), activation='relu'))\n",
        "model.add(Dense(1))\n",
        "model.compile(loss='mean_squared_error',\n",
        "                optimizer=AdamOptimizer(0.01),\n",
        "                metrics=['mean_absolute_error', 'mean_squared_error'])"
      ],
      "execution_count": 0,
      "outputs": []
    },
    {
      "metadata": {
        "id": "rx3YQQJkTtvd",
        "colab_type": "code",
        "outputId": "1f1186e4-c30f-44cd-a7bd-13e7dc3e4d28",
        "colab": {
          "base_uri": "https://localhost:8080/",
          "height": 3655
        }
      },
      "cell_type": "code",
      "source": [
        "h = model.fit(X, y, epochs=100, validation_split=0.2)"
      ],
      "execution_count": 0,
      "outputs": [
        {
          "output_type": "stream",
          "text": [
            "Train on 37 samples, validate on 10 samples\n",
            "Epoch 1/100\n",
            "37/37 [==============================] - 0s 4ms/sample - loss: 136604117379.4594 - mean_absolute_error: 345746.6875 - mean_squared_error: 136604114944.0000 - val_loss: 111574253568.0000 - val_mean_absolute_error: 321261.7500 - val_mean_squared_error: 111574253568.0000\n",
            "Epoch 2/100\n",
            "37/37 [==============================] - 0s 331us/sample - loss: 136571065537.7297 - mean_absolute_error: 345702.8750 - mean_squared_error: 136571076608.0000 - val_loss: 111544721408.0000 - val_mean_absolute_error: 321220.4062 - val_mean_squared_error: 111544721408.0000\n",
            "Epoch 3/100\n",
            "37/37 [==============================] - 0s 313us/sample - loss: 136538336505.0811 - mean_absolute_error: 345661.7812 - mean_squared_error: 136538341376.0000 - val_loss: 111515877376.0000 - val_mean_absolute_error: 321180.0312 - val_mean_squared_error: 111515877376.0000\n",
            "Epoch 4/100\n",
            "37/37 [==============================] - 0s 359us/sample - loss: 136507291924.7568 - mean_absolute_error: 345621.5938 - mean_squared_error: 136507293696.0000 - val_loss: 111486869504.0000 - val_mean_absolute_error: 321139.4375 - val_mean_squared_error: 111486869504.0000\n",
            "Epoch 5/100\n",
            "37/37 [==============================] - 0s 353us/sample - loss: 136476625947.6757 - mean_absolute_error: 345581.5000 - mean_squared_error: 136476631040.0000 - val_loss: 111457927168.0000 - val_mean_absolute_error: 321098.9375 - val_mean_squared_error: 111457927168.0000\n",
            "Epoch 6/100\n",
            "37/37 [==============================] - 0s 250us/sample - loss: 136445215384.2162 - mean_absolute_error: 345541.1875 - mean_squared_error: 136445214720.0000 - val_loss: 111429009408.0000 - val_mean_absolute_error: 321058.4375 - val_mean_squared_error: 111429009408.0000\n",
            "Epoch 7/100\n",
            "37/37 [==============================] - 0s 251us/sample - loss: 136414960778.3784 - mean_absolute_error: 345501.8438 - mean_squared_error: 136414961664.0000 - val_loss: 111400271872.0000 - val_mean_absolute_error: 321018.1875 - val_mean_squared_error: 111400271872.0000\n",
            "Epoch 8/100\n",
            "37/37 [==============================] - 0s 272us/sample - loss: 136383653832.6487 - mean_absolute_error: 345461.5312 - mean_squared_error: 136383660032.0000 - val_loss: 111371681792.0000 - val_mean_absolute_error: 320978.1562 - val_mean_squared_error: 111371681792.0000\n",
            "Epoch 9/100\n",
            "37/37 [==============================] - 0s 304us/sample - loss: 136351223254.4865 - mean_absolute_error: 345420.6875 - mean_squared_error: 136351227904.0000 - val_loss: 111342321664.0000 - val_mean_absolute_error: 320937.0000 - val_mean_squared_error: 111342321664.0000\n",
            "Epoch 10/100\n",
            "37/37 [==============================] - 0s 367us/sample - loss: 136321020678.9189 - mean_absolute_error: 345380.9062 - mean_squared_error: 136321015808.0000 - val_loss: 111312027648.0000 - val_mean_absolute_error: 320894.5625 - val_mean_squared_error: 111312027648.0000\n",
            "Epoch 11/100\n",
            "37/37 [==============================] - 0s 292us/sample - loss: 136288225888.8649 - mean_absolute_error: 345338.5000 - mean_squared_error: 136288223232.0000 - val_loss: 111281192960.0000 - val_mean_absolute_error: 320851.3750 - val_mean_squared_error: 111281192960.0000\n",
            "Epoch 12/100\n",
            "37/37 [==============================] - 0s 280us/sample - loss: 136254962826.3784 - mean_absolute_error: 345295.5000 - mean_squared_error: 136254971904.0000 - val_loss: 111249498112.0000 - val_mean_absolute_error: 320807.0000 - val_mean_squared_error: 111249498112.0000\n",
            "Epoch 13/100\n",
            "37/37 [==============================] - 0s 284us/sample - loss: 136221036211.8919 - mean_absolute_error: 345251.6875 - mean_squared_error: 136221032448.0000 - val_loss: 111216975872.0000 - val_mean_absolute_error: 320761.4375 - val_mean_squared_error: 111216975872.0000\n",
            "Epoch 14/100\n",
            "37/37 [==============================] - 0s 441us/sample - loss: 136184803438.7027 - mean_absolute_error: 345205.5625 - mean_squared_error: 136184799232.0000 - val_loss: 111183314944.0000 - val_mean_absolute_error: 320714.1875 - val_mean_squared_error: 111183314944.0000\n",
            "Epoch 15/100\n",
            "37/37 [==============================] - 0s 277us/sample - loss: 136147421792.8649 - mean_absolute_error: 345157.9688 - mean_squared_error: 136147419136.0000 - val_loss: 111147040768.0000 - val_mean_absolute_error: 320663.2500 - val_mean_squared_error: 111147040768.0000\n",
            "Epoch 16/100\n",
            "37/37 [==============================] - 0s 298us/sample - loss: 136109640288.8649 - mean_absolute_error: 345108.0000 - mean_squared_error: 136109645824.0000 - val_loss: 111108333568.0000 - val_mean_absolute_error: 320608.9375 - val_mean_squared_error: 111108333568.0000\n",
            "Epoch 17/100\n",
            "37/37 [==============================] - 0s 281us/sample - loss: 136068381170.1622 - mean_absolute_error: 345054.5938 - mean_squared_error: 136068382720.0000 - val_loss: 111068053504.0000 - val_mean_absolute_error: 320552.3438 - val_mean_squared_error: 111068053504.0000\n",
            "Epoch 18/100\n",
            "37/37 [==============================] - 0s 262us/sample - loss: 136024748142.7027 - mean_absolute_error: 344998.3750 - mean_squared_error: 136024752128.0000 - val_loss: 111026241536.0000 - val_mean_absolute_error: 320493.6250 - val_mean_squared_error: 111026241536.0000\n",
            "Epoch 19/100\n",
            "37/37 [==============================] - 0s 351us/sample - loss: 135978659507.8919 - mean_absolute_error: 344939.2500 - mean_squared_error: 135978655744.0000 - val_loss: 110982201344.0000 - val_mean_absolute_error: 320431.7188 - val_mean_squared_error: 110982201344.0000\n",
            "Epoch 20/100\n",
            "37/37 [==============================] - 0s 302us/sample - loss: 135929658506.3784 - mean_absolute_error: 344877.3125 - mean_squared_error: 135929659392.0000 - val_loss: 110935015424.0000 - val_mean_absolute_error: 320365.4375 - val_mean_squared_error: 110935015424.0000\n",
            "Epoch 21/100\n",
            "37/37 [==============================] - 0s 330us/sample - loss: 135878778658.5946 - mean_absolute_error: 344811.3125 - mean_squared_error: 135878787072.0000 - val_loss: 110884397056.0000 - val_mean_absolute_error: 320294.3125 - val_mean_squared_error: 110884397056.0000\n",
            "Epoch 22/100\n",
            "37/37 [==============================] - 0s 328us/sample - loss: 135825568297.5135 - mean_absolute_error: 344741.3750 - mean_squared_error: 135825563648.0000 - val_loss: 110831124480.0000 - val_mean_absolute_error: 320219.4062 - val_mean_squared_error: 110831124480.0000\n",
            "Epoch 23/100\n",
            "37/37 [==============================] - 0s 278us/sample - loss: 135769364313.9459 - mean_absolute_error: 344668.0000 - mean_squared_error: 135769366528.0000 - val_loss: 110776418304.0000 - val_mean_absolute_error: 320142.4375 - val_mean_squared_error: 110776418304.0000\n",
            "Epoch 24/100\n",
            "37/37 [==============================] - 0s 405us/sample - loss: 135710670626.5946 - mean_absolute_error: 344591.7188 - mean_squared_error: 135710670848.0000 - val_loss: 110720892928.0000 - val_mean_absolute_error: 320064.3438 - val_mean_squared_error: 110720892928.0000\n",
            "Epoch 25/100\n",
            "37/37 [==============================] - 0s 293us/sample - loss: 135647690752.0000 - mean_absolute_error: 344512.2812 - mean_squared_error: 135647690752.0000 - val_loss: 110663081984.0000 - val_mean_absolute_error: 319983.0625 - val_mean_squared_error: 110663081984.0000\n",
            "Epoch 26/100\n",
            "37/37 [==============================] - 0s 243us/sample - loss: 135582226487.3513 - mean_absolute_error: 344429.9375 - mean_squared_error: 135582220288.0000 - val_loss: 110600863744.0000 - val_mean_absolute_error: 319895.4688 - val_mean_squared_error: 110600863744.0000\n",
            "Epoch 27/100\n",
            "37/37 [==============================] - 0s 293us/sample - loss: 135520629510.9189 - mean_absolute_error: 344345.7812 - mean_squared_error: 135520624640.0000 - val_loss: 110535589888.0000 - val_mean_absolute_error: 319803.5938 - val_mean_squared_error: 110535589888.0000\n",
            "Epoch 28/100\n",
            "37/37 [==============================] - 0s 299us/sample - loss: 135450177203.8919 - mean_absolute_error: 344254.0938 - mean_squared_error: 135450173440.0000 - val_loss: 110469603328.0000 - val_mean_absolute_error: 319710.6875 - val_mean_squared_error: 110469603328.0000\n",
            "Epoch 29/100\n",
            "37/37 [==============================] - 0s 325us/sample - loss: 135377016444.5406 - mean_absolute_error: 344161.4062 - mean_squared_error: 135377010688.0000 - val_loss: 110401642496.0000 - val_mean_absolute_error: 319614.9375 - val_mean_squared_error: 110401642496.0000\n",
            "Epoch 30/100\n",
            "37/37 [==============================] - 0s 410us/sample - loss: 135301334320.4324 - mean_absolute_error: 344064.9062 - mean_squared_error: 135301332992.0000 - val_loss: 110329839616.0000 - val_mean_absolute_error: 319513.7812 - val_mean_squared_error: 110329839616.0000\n",
            "Epoch 31/100\n",
            "37/37 [==============================] - 0s 270us/sample - loss: 135226575014.0541 - mean_absolute_error: 343965.4688 - mean_squared_error: 135226572800.0000 - val_loss: 110254538752.0000 - val_mean_absolute_error: 319407.6250 - val_mean_squared_error: 110254538752.0000\n",
            "Epoch 32/100\n",
            "37/37 [==============================] - 0s 264us/sample - loss: 135146890765.8378 - mean_absolute_error: 343861.0000 - mean_squared_error: 135146897408.0000 - val_loss: 110177853440.0000 - val_mean_absolute_error: 319299.5000 - val_mean_squared_error: 110177853440.0000\n",
            "Epoch 33/100\n",
            "37/37 [==============================] - 0s 253us/sample - loss: 135060224719.5676 - mean_absolute_error: 343752.5000 - mean_squared_error: 135060234240.0000 - val_loss: 110098759680.0000 - val_mean_absolute_error: 319187.9375 - val_mean_squared_error: 110098759680.0000\n",
            "Epoch 34/100\n",
            "37/37 [==============================] - 0s 349us/sample - loss: 134976435172.3243 - mean_absolute_error: 343642.3125 - mean_squared_error: 134976430080.0000 - val_loss: 110015938560.0000 - val_mean_absolute_error: 319071.0938 - val_mean_squared_error: 110015938560.0000\n",
            "Epoch 35/100\n",
            "37/37 [==============================] - 0s 418us/sample - loss: 134887594039.3513 - mean_absolute_error: 343526.2188 - mean_squared_error: 134887596032.0000 - val_loss: 109930594304.0000 - val_mean_absolute_error: 318950.5938 - val_mean_squared_error: 109930594304.0000\n",
            "Epoch 36/100\n",
            "37/37 [==============================] - 0s 425us/sample - loss: 134793219985.2973 - mean_absolute_error: 343404.6250 - mean_squared_error: 134793224192.0000 - val_loss: 109842153472.0000 - val_mean_absolute_error: 318825.6875 - val_mean_squared_error: 109842153472.0000\n",
            "Epoch 37/100\n",
            "37/37 [==============================] - 0s 349us/sample - loss: 134695637324.1081 - mean_absolute_error: 343280.4375 - mean_squared_error: 134695641088.0000 - val_loss: 109749125120.0000 - val_mean_absolute_error: 318694.2500 - val_mean_squared_error: 109749125120.0000\n",
            "Epoch 38/100\n",
            "37/37 [==============================] - 0s 277us/sample - loss: 134597561371.6757 - mean_absolute_error: 343150.6562 - mean_squared_error: 134597566464.0000 - val_loss: 109652008960.0000 - val_mean_absolute_error: 318557.0000 - val_mean_squared_error: 109652008960.0000\n",
            "Epoch 39/100\n",
            "37/37 [==============================] - 0s 334us/sample - loss: 134493858622.2703 - mean_absolute_error: 343016.0938 - mean_squared_error: 134493855744.0000 - val_loss: 109552541696.0000 - val_mean_absolute_error: 318416.3438 - val_mean_squared_error: 109552541696.0000\n",
            "Epoch 40/100\n",
            "37/37 [==============================] - 0s 318us/sample - loss: 134387915250.1622 - mean_absolute_error: 342876.0938 - mean_squared_error: 134387908608.0000 - val_loss: 109451739136.0000 - val_mean_absolute_error: 318273.7188 - val_mean_squared_error: 109451739136.0000\n",
            "Epoch 41/100\n",
            "37/37 [==============================] - 0s 402us/sample - loss: 134278466587.6757 - mean_absolute_error: 342735.4688 - mean_squared_error: 134278463488.0000 - val_loss: 109349683200.0000 - val_mean_absolute_error: 318129.3125 - val_mean_squared_error: 109349683200.0000\n",
            "Epoch 42/100\n",
            "37/37 [==============================] - 0s 270us/sample - loss: 134169375273.5135 - mean_absolute_error: 342591.5938 - mean_squared_error: 134169378816.0000 - val_loss: 109246169088.0000 - val_mean_absolute_error: 317982.6875 - val_mean_squared_error: 109246169088.0000\n",
            "Epoch 43/100\n",
            "37/37 [==============================] - 0s 404us/sample - loss: 134051721769.5135 - mean_absolute_error: 342443.7188 - mean_squared_error: 134051725312.0000 - val_loss: 109139255296.0000 - val_mean_absolute_error: 317831.2188 - val_mean_squared_error: 109139255296.0000\n",
            "Epoch 44/100\n",
            "37/37 [==============================] - 0s 301us/sample - loss: 133941502616.2162 - mean_absolute_error: 342296.0625 - mean_squared_error: 133941501952.0000 - val_loss: 109028294656.0000 - val_mean_absolute_error: 317673.9375 - val_mean_squared_error: 109028294656.0000\n",
            "Epoch 45/100\n",
            "37/37 [==============================] - 0s 297us/sample - loss: 133820119316.7568 - mean_absolute_error: 342138.6875 - mean_squared_error: 133820121088.0000 - val_loss: 108915507200.0000 - val_mean_absolute_error: 317513.9375 - val_mean_squared_error: 108915507200.0000\n",
            "Epoch 46/100\n",
            "37/37 [==============================] - 0s 323us/sample - loss: 133695213900.1081 - mean_absolute_error: 341978.0312 - mean_squared_error: 133695209472.0000 - val_loss: 108798738432.0000 - val_mean_absolute_error: 317348.2812 - val_mean_squared_error: 108798738432.0000\n",
            "Epoch 47/100\n",
            "37/37 [==============================] - 0s 275us/sample - loss: 133574255256.2162 - mean_absolute_error: 341816.6875 - mean_squared_error: 133574254592.0000 - val_loss: 108678889472.0000 - val_mean_absolute_error: 317178.0938 - val_mean_squared_error: 108678889472.0000\n",
            "Epoch 48/100\n",
            "37/37 [==============================] - 0s 563us/sample - loss: 133447105342.2703 - mean_absolute_error: 341648.6875 - mean_squared_error: 133447106560.0000 - val_loss: 108559679488.0000 - val_mean_absolute_error: 317008.7188 - val_mean_squared_error: 108559679488.0000\n",
            "Epoch 49/100\n",
            "37/37 [==============================] - 0s 302us/sample - loss: 133314989305.0811 - mean_absolute_error: 341479.6562 - mean_squared_error: 133314985984.0000 - val_loss: 108439969792.0000 - val_mean_absolute_error: 316838.5625 - val_mean_squared_error: 108439969792.0000\n",
            "Epoch 50/100\n",
            "37/37 [==============================] - 0s 275us/sample - loss: 133182306137.9459 - mean_absolute_error: 341307.8125 - mean_squared_error: 133182300160.0000 - val_loss: 108315951104.0000 - val_mean_absolute_error: 316662.1562 - val_mean_squared_error: 108315951104.0000\n",
            "Epoch 51/100\n",
            "37/37 [==============================] - 0s 274us/sample - loss: 133053336825.0811 - mean_absolute_error: 341135.4688 - mean_squared_error: 133053341696.0000 - val_loss: 108188434432.0000 - val_mean_absolute_error: 316480.6562 - val_mean_squared_error: 108188434432.0000\n",
            "Epoch 52/100\n",
            "37/37 [==============================] - 0s 300us/sample - loss: 132917655164.5406 - mean_absolute_error: 340957.3438 - mean_squared_error: 132917649408.0000 - val_loss: 108061261824.0000 - val_mean_absolute_error: 316299.5625 - val_mean_squared_error: 108061261824.0000\n",
            "Epoch 53/100\n",
            "37/37 [==============================] - 0s 424us/sample - loss: 132775921387.2432 - mean_absolute_error: 340776.3125 - mean_squared_error: 132775919616.0000 - val_loss: 107932827648.0000 - val_mean_absolute_error: 316116.5000 - val_mean_squared_error: 107932827648.0000\n",
            "Epoch 54/100\n",
            "37/37 [==============================] - 0s 270us/sample - loss: 132642054586.8108 - mean_absolute_error: 340596.9062 - mean_squared_error: 132642062336.0000 - val_loss: 107802566656.0000 - val_mean_absolute_error: 315930.7812 - val_mean_squared_error: 107802566656.0000\n",
            "Epoch 55/100\n",
            "37/37 [==============================] - 0s 300us/sample - loss: 132499521314.5946 - mean_absolute_error: 340410.3438 - mean_squared_error: 132499521536.0000 - val_loss: 107672248320.0000 - val_mean_absolute_error: 315744.8438 - val_mean_squared_error: 107672248320.0000\n",
            "Epoch 56/100\n",
            "37/37 [==============================] - 0s 262us/sample - loss: 132357795507.8919 - mean_absolute_error: 340226.3438 - mean_squared_error: 132357791744.0000 - val_loss: 107539603456.0000 - val_mean_absolute_error: 315555.4375 - val_mean_squared_error: 107539603456.0000\n",
            "Epoch 57/100\n",
            "37/37 [==============================] - 0s 286us/sample - loss: 132210326223.5676 - mean_absolute_error: 340036.1250 - mean_squared_error: 132210327552.0000 - val_loss: 107402051584.0000 - val_mean_absolute_error: 315358.9375 - val_mean_squared_error: 107402051584.0000\n",
            "Epoch 58/100\n",
            "37/37 [==============================] - 0s 356us/sample - loss: 132064231866.8108 - mean_absolute_error: 339843.2812 - mean_squared_error: 132064239616.0000 - val_loss: 107258929152.0000 - val_mean_absolute_error: 315154.3125 - val_mean_squared_error: 107258929152.0000\n",
            "Epoch 59/100\n",
            "37/37 [==============================] - 0s 379us/sample - loss: 131909647941.1892 - mean_absolute_error: 339639.8750 - mean_squared_error: 131909640192.0000 - val_loss: 107112505344.0000 - val_mean_absolute_error: 314944.8438 - val_mean_squared_error: 107112505344.0000\n",
            "Epoch 60/100\n",
            "37/37 [==============================] - 0s 437us/sample - loss: 131752352906.3784 - mean_absolute_error: 339431.2500 - mean_squared_error: 131752353792.0000 - val_loss: 106963419136.0000 - val_mean_absolute_error: 314731.4062 - val_mean_squared_error: 106963419136.0000\n",
            "Epoch 61/100\n",
            "37/37 [==============================] - 0s 354us/sample - loss: 131589148118.4865 - mean_absolute_error: 339218.7500 - mean_squared_error: 131589144576.0000 - val_loss: 106811236352.0000 - val_mean_absolute_error: 314513.3438 - val_mean_squared_error: 106811236352.0000\n",
            "Epoch 62/100\n",
            "37/37 [==============================] - 0s 304us/sample - loss: 131430703325.4054 - mean_absolute_error: 339006.6875 - mean_squared_error: 131430694912.0000 - val_loss: 106657832960.0000 - val_mean_absolute_error: 314293.4375 - val_mean_squared_error: 106657832960.0000\n",
            "Epoch 63/100\n",
            "37/37 [==============================] - 0s 276us/sample - loss: 131253795978.3784 - mean_absolute_error: 338781.8438 - mean_squared_error: 131253796864.0000 - val_loss: 106501390336.0000 - val_mean_absolute_error: 314068.9688 - val_mean_squared_error: 106501390336.0000\n",
            "Epoch 64/100\n",
            "37/37 [==============================] - 0s 287us/sample - loss: 131095815583.1351 - mean_absolute_error: 338565.5625 - mean_squared_error: 131095822336.0000 - val_loss: 106340843520.0000 - val_mean_absolute_error: 313838.4375 - val_mean_squared_error: 106340843520.0000\n",
            "Epoch 65/100\n",
            "37/37 [==============================] - 0s 446us/sample - loss: 130915113458.1622 - mean_absolute_error: 338332.0938 - mean_squared_error: 130915106816.0000 - val_loss: 106179559424.0000 - val_mean_absolute_error: 313606.6875 - val_mean_squared_error: 106179559424.0000\n",
            "Epoch 66/100\n",
            "37/37 [==============================] - 0s 324us/sample - loss: 130737521968.4324 - mean_absolute_error: 338100.1250 - mean_squared_error: 130737520640.0000 - val_loss: 106011582464.0000 - val_mean_absolute_error: 313365.0625 - val_mean_squared_error: 106011582464.0000\n",
            "Epoch 67/100\n",
            "37/37 [==============================] - 0s 328us/sample - loss: 130556809105.2973 - mean_absolute_error: 337861.4688 - mean_squared_error: 130556805120.0000 - val_loss: 105836806144.0000 - val_mean_absolute_error: 313113.5000 - val_mean_squared_error: 105836806144.0000\n",
            "Epoch 68/100\n",
            "37/37 [==============================] - 0s 306us/sample - loss: 130369724637.4054 - mean_absolute_error: 337613.5000 - mean_squared_error: 130369724416.0000 - val_loss: 105657729024.0000 - val_mean_absolute_error: 312855.4688 - val_mean_squared_error: 105657729024.0000\n",
            "Epoch 69/100\n",
            "37/37 [==============================] - 0s 449us/sample - loss: 130175272683.2432 - mean_absolute_error: 337356.6562 - mean_squared_error: 130175270912.0000 - val_loss: 105475489792.0000 - val_mean_absolute_error: 312592.6875 - val_mean_squared_error: 105475489792.0000\n",
            "Epoch 70/100\n",
            "37/37 [==============================] - 0s 341us/sample - loss: 129976559117.8378 - mean_absolute_error: 337095.5625 - mean_squared_error: 129976565760.0000 - val_loss: 105289220096.0000 - val_mean_absolute_error: 312323.8438 - val_mean_squared_error: 105289220096.0000\n",
            "Epoch 71/100\n",
            "37/37 [==============================] - 0s 292us/sample - loss: 129777606877.4054 - mean_absolute_error: 336830.2188 - mean_squared_error: 129777606656.0000 - val_loss: 105099542528.0000 - val_mean_absolute_error: 312049.8125 - val_mean_squared_error: 105099542528.0000\n",
            "Epoch 72/100\n",
            "37/37 [==============================] - 0s 372us/sample - loss: 129574369778.1622 - mean_absolute_error: 336560.1250 - mean_squared_error: 129574363136.0000 - val_loss: 104908849152.0000 - val_mean_absolute_error: 311774.0625 - val_mean_squared_error: 104908849152.0000\n",
            "Epoch 73/100\n",
            "37/37 [==============================] - 0s 354us/sample - loss: 129371163232.8649 - mean_absolute_error: 336288.8125 - mean_squared_error: 129371168768.0000 - val_loss: 104719204352.0000 - val_mean_absolute_error: 311499.5625 - val_mean_squared_error: 104719204352.0000\n",
            "Epoch 74/100\n",
            "37/37 [==============================] - 0s 296us/sample - loss: 129150618208.8649 - mean_absolute_error: 336007.5625 - mean_squared_error: 129150615552.0000 - val_loss: 104525250560.0000 - val_mean_absolute_error: 311218.5625 - val_mean_squared_error: 104525250560.0000\n",
            "Epoch 75/100\n",
            "37/37 [==============================] - 0s 539us/sample - loss: 128951166699.2432 - mean_absolute_error: 335732.4688 - mean_squared_error: 128951173120.0000 - val_loss: 104323637248.0000 - val_mean_absolute_error: 310926.1875 - val_mean_squared_error: 104323637248.0000\n",
            "Epoch 76/100\n",
            "37/37 [==============================] - 0s 303us/sample - loss: 128725567211.2432 - mean_absolute_error: 335440.1875 - mean_squared_error: 128725573632.0000 - val_loss: 104118312960.0000 - val_mean_absolute_error: 310628.1250 - val_mean_squared_error: 104118312960.0000\n",
            "Epoch 77/100\n",
            "37/37 [==============================] - 0s 387us/sample - loss: 128517174797.8378 - mean_absolute_error: 335152.2812 - mean_squared_error: 128517169152.0000 - val_loss: 103911718912.0000 - val_mean_absolute_error: 310327.8750 - val_mean_squared_error: 103911718912.0000\n",
            "Epoch 78/100\n",
            "37/37 [==============================] - 0s 341us/sample - loss: 128283661505.7297 - mean_absolute_error: 334847.8750 - mean_squared_error: 128283664384.0000 - val_loss: 103706542080.0000 - val_mean_absolute_error: 310029.4375 - val_mean_squared_error: 103706542080.0000\n",
            "Epoch 79/100\n",
            "37/37 [==============================] - 0s 295us/sample - loss: 128064455098.8108 - mean_absolute_error: 334553.6562 - mean_squared_error: 128064454656.0000 - val_loss: 103497744384.0000 - val_mean_absolute_error: 309725.4062 - val_mean_squared_error: 103497744384.0000\n",
            "Epoch 80/100\n",
            "37/37 [==============================] - 0s 437us/sample - loss: 127841505833.5135 - mean_absolute_error: 334255.6562 - mean_squared_error: 127841509376.0000 - val_loss: 103288635392.0000 - val_mean_absolute_error: 309420.5625 - val_mean_squared_error: 103288635392.0000\n",
            "Epoch 81/100\n",
            "37/37 [==============================] - 0s 308us/sample - loss: 127612013152.8649 - mean_absolute_error: 333950.2188 - mean_squared_error: 127612010496.0000 - val_loss: 103079034880.0000 - val_mean_absolute_error: 309114.6875 - val_mean_squared_error: 103079034880.0000\n",
            "Epoch 82/100\n",
            "37/37 [==============================] - 0s 365us/sample - loss: 127389694671.5676 - mean_absolute_error: 333650.1875 - mean_squared_error: 127389696000.0000 - val_loss: 102868934656.0000 - val_mean_absolute_error: 308807.7500 - val_mean_squared_error: 102868934656.0000\n",
            "Epoch 83/100\n",
            "37/37 [==============================] - 0s 372us/sample - loss: 127158856288.8649 - mean_absolute_error: 333345.0312 - mean_squared_error: 127158853632.0000 - val_loss: 102659014656.0000 - val_mean_absolute_error: 308500.7500 - val_mean_squared_error: 102659014656.0000\n",
            "Epoch 84/100\n",
            "37/37 [==============================] - 0s 295us/sample - loss: 126935238822.0541 - mean_absolute_error: 333040.6562 - mean_squared_error: 126935236608.0000 - val_loss: 102448562176.0000 - val_mean_absolute_error: 308192.6562 - val_mean_squared_error: 102448562176.0000\n",
            "Epoch 85/100\n",
            "37/37 [==============================] - 0s 293us/sample - loss: 126707986321.2973 - mean_absolute_error: 332737.0000 - mean_squared_error: 126707982336.0000 - val_loss: 102239813632.0000 - val_mean_absolute_error: 307886.7188 - val_mean_squared_error: 102239813632.0000\n",
            "Epoch 86/100\n",
            "37/37 [==============================] - 0s 361us/sample - loss: 126464209449.5135 - mean_absolute_error: 332423.6875 - mean_squared_error: 126464212992.0000 - val_loss: 102024396800.0000 - val_mean_absolute_error: 307570.6562 - val_mean_squared_error: 102024396800.0000\n",
            "Epoch 87/100\n",
            "37/37 [==============================] - 0s 456us/sample - loss: 126236944328.6487 - mean_absolute_error: 332112.9688 - mean_squared_error: 126236942336.0000 - val_loss: 101796265984.0000 - val_mean_absolute_error: 307235.5625 - val_mean_squared_error: 101796265984.0000\n",
            "Epoch 88/100\n",
            "37/37 [==============================] - 0s 297us/sample - loss: 125994272048.4324 - mean_absolute_error: 331782.5938 - mean_squared_error: 125994270720.0000 - val_loss: 101563883520.0000 - val_mean_absolute_error: 306893.8125 - val_mean_squared_error: 101563883520.0000\n",
            "Epoch 89/100\n",
            "37/37 [==============================] - 0s 329us/sample - loss: 125746505672.6487 - mean_absolute_error: 331446.7500 - mean_squared_error: 125746511872.0000 - val_loss: 101332164608.0000 - val_mean_absolute_error: 306552.6250 - val_mean_squared_error: 101332164608.0000\n",
            "Epoch 90/100\n",
            "37/37 [==============================] - 0s 305us/sample - loss: 125495135702.4865 - mean_absolute_error: 331107.5625 - mean_squared_error: 125495132160.0000 - val_loss: 101102632960.0000 - val_mean_absolute_error: 306214.2812 - val_mean_squared_error: 101102632960.0000\n",
            "Epoch 91/100\n",
            "37/37 [==============================] - 0s 401us/sample - loss: 125245401254.0541 - mean_absolute_error: 330772.0000 - mean_squared_error: 125245407232.0000 - val_loss: 100873748480.0000 - val_mean_absolute_error: 305876.4375 - val_mean_squared_error: 100873748480.0000\n",
            "Epoch 92/100\n",
            "37/37 [==============================] - 0s 426us/sample - loss: 124985310346.3784 - mean_absolute_error: 330430.3750 - mean_squared_error: 124985311232.0000 - val_loss: 100639064064.0000 - val_mean_absolute_error: 305529.6875 - val_mean_squared_error: 100639064064.0000\n",
            "Epoch 93/100\n",
            "37/37 [==============================] - 0s 280us/sample - loss: 124732473786.8108 - mean_absolute_error: 330090.3125 - mean_squared_error: 124732481536.0000 - val_loss: 100393852928.0000 - val_mean_absolute_error: 305166.9375 - val_mean_squared_error: 100393852928.0000\n",
            "Epoch 94/100\n",
            "37/37 [==============================] - 0s 348us/sample - loss: 124468257875.0270 - mean_absolute_error: 329728.8750 - mean_squared_error: 124468248576.0000 - val_loss: 100142350336.0000 - val_mean_absolute_error: 304794.3438 - val_mean_squared_error: 100142350336.0000\n",
            "Epoch 95/100\n",
            "37/37 [==============================] - 0s 377us/sample - loss: 124198261732.3243 - mean_absolute_error: 329360.5625 - mean_squared_error: 124198256640.0000 - val_loss: 99887939584.0000 - val_mean_absolute_error: 304416.9375 - val_mean_squared_error: 99887939584.0000\n",
            "Epoch 96/100\n",
            "37/37 [==============================] - 0s 333us/sample - loss: 123920741791.1351 - mean_absolute_error: 328986.0000 - mean_squared_error: 123920736256.0000 - val_loss: 99631783936.0000 - val_mean_absolute_error: 304036.5000 - val_mean_squared_error: 99631783936.0000\n",
            "Epoch 97/100\n",
            "37/37 [==============================] - 0s 290us/sample - loss: 123647217331.8919 - mean_absolute_error: 328613.5625 - mean_squared_error: 123647213568.0000 - val_loss: 99375022080.0000 - val_mean_absolute_error: 303654.5938 - val_mean_squared_error: 99375022080.0000\n",
            "Epoch 98/100\n",
            "37/37 [==============================] - 0s 340us/sample - loss: 123359079673.0811 - mean_absolute_error: 328228.1562 - mean_squared_error: 123359068160.0000 - val_loss: 99115786240.0000 - val_mean_absolute_error: 303268.4688 - val_mean_squared_error: 99115786240.0000\n",
            "Epoch 99/100\n",
            "37/37 [==============================] - 0s 264us/sample - loss: 123090459232.8649 - mean_absolute_error: 327850.0938 - mean_squared_error: 123090468864.0000 - val_loss: 98854723584.0000 - val_mean_absolute_error: 302879.1562 - val_mean_squared_error: 98854723584.0000\n",
            "Epoch 100/100\n",
            "37/37 [==============================] - 0s 287us/sample - loss: 122786325587.0270 - mean_absolute_error: 327452.2188 - mean_squared_error: 122786324480.0000 - val_loss: 98590359552.0000 - val_mean_absolute_error: 302484.3125 - val_mean_squared_error: 98590359552.0000\n"
          ],
          "name": "stdout"
        }
      ]
    },
    {
      "metadata": {
        "id": "T8JSGODrZo6Q",
        "colab_type": "code",
        "outputId": "7eca2d24-a52e-44bb-ca4a-874d52d155aa",
        "colab": {
          "base_uri": "https://localhost:8080/",
          "height": 35
        }
      },
      "cell_type": "code",
      "source": [
        "h.history.keys()"
      ],
      "execution_count": 0,
      "outputs": [
        {
          "output_type": "execute_result",
          "data": {
            "text/plain": [
              "dict_keys(['loss', 'mean_absolute_error', 'mean_squared_error', 'val_loss', 'val_mean_absolute_error', 'val_mean_squared_error'])"
            ]
          },
          "metadata": {
            "tags": []
          },
          "execution_count": 116
        }
      ]
    },
    {
      "metadata": {
        "id": "eSnlMC89Z2XS",
        "colab_type": "code",
        "outputId": "37305278-59e8-4d36-dd0f-23df9990842a",
        "colab": {
          "base_uri": "https://localhost:8080/",
          "height": 365
        }
      },
      "cell_type": "code",
      "source": [
        "import matplotlib.pyplot as plt\n",
        "plt.plot(h.history['mean_absolute_error'],color='r')\n",
        "plt.plot(h.history['val_mean_absolute_error'],color='b')"
      ],
      "execution_count": 0,
      "outputs": [
        {
          "output_type": "execute_result",
          "data": {
            "text/plain": [
              "[<matplotlib.lines.Line2D at 0x7fcb598e2470>]"
            ]
          },
          "metadata": {
            "tags": []
          },
          "execution_count": 117
        },
        {
          "output_type": "display_data",
          "data": {
            "image/png": "[encoded data removed]",
            "text/plain": [
              "<Figure size 576x396 with 1 Axes>"
            ]
          },
          "metadata": {
            "tags": []
          }
        }
      ]
    },
    {
      "metadata": {
        "id": "hr2LDZSilH2L",
        "colab_type": "text"
      },
      "cell_type": "markdown",
      "source": [
        "# Binary Classification\n",
        "Create a binary classifier for the titanic dataset, will person x survive?"
      ]
    },
    {
      "metadata": {
        "id": "RTLB0WDflUXw",
        "colab_type": "code",
        "outputId": "c8d09761-74ae-493b-a37d-b0481c1a08db",
        "colab": {
          "base_uri": "https://localhost:8080/",
          "height": 215
        }
      },
      "cell_type": "code",
      "source": [
        "!wget https://storage.googleapis.com/nicksdemobucket/titanic-train.csv\n",
        "  "
      ],
      "execution_count": 0,
      "outputs": [
        {
          "output_type": "stream",
          "text": [
            "--2019-03-23 03:08:29--  https://storage.googleapis.com/nicksdemobucket/titanic-train.csv\n",
            "Resolving storage.googleapis.com (storage.googleapis.com)... 74.125.141.128, 2607:f8b0:400c:c06::80\n",
            "Connecting to storage.googleapis.com (storage.googleapis.com)|74.125.141.128|:443... connected.\n",
            "HTTP request sent, awaiting response... 200 OK\n",
            "Length: 61194 (60K) [application/octet-stream]\n",
            "Saving to: ‘titanic-train.csv.3’\n",
            "\n",
            "\rtitanic-train.csv.3   0%[                    ]       0  --.-KB/s               \rtitanic-train.csv.3 100%[===================>]  59.76K  --.-KB/s    in 0.001s  \n",
            "\n",
            "2019-03-23 03:08:29 (89.9 MB/s) - ‘titanic-train.csv.3’ saved [61194/61194]\n",
            "\n"
          ],
          "name": "stdout"
        }
      ]
    },
    {
      "metadata": {
        "id": "osjZXzPvdE2I",
        "colab_type": "code",
        "colab": {}
      },
      "cell_type": "code",
      "source": [
        "import pandas as pd\n",
        "from sklearn import preprocessing\n",
        "\n",
        "import seaborn as sns\n",
        "from tensorflow.keras.models import Sequential\n",
        "from tensorflow.keras.layers import Dense\n",
        "from tensorflow.train import AdamOptimizer\n",
        "\n",
        "from sklearn.preprocessing import OneHotEncoder"
      ],
      "execution_count": 0,
      "outputs": []
    },
    {
      "metadata": {
        "id": "Gfbg3HR7awMN",
        "colab_type": "code",
        "outputId": "58a80cba-5862-40bf-8887-55244b05f415",
        "colab": {
          "base_uri": "https://localhost:8080/",
          "height": 204
        }
      },
      "cell_type": "code",
      "source": [
        "df=pd.read_csv('titanic-train.csv')\n",
        "df.head()"
      ],
      "execution_count": 0,
      "outputs": [
        {
          "output_type": "execute_result",
          "data": {
            "text/html": [
              "<div>\n",
              "<style scoped>\n",
              "    .dataframe tbody tr th:only-of-type {\n",
              "        vertical-align: middle;\n",
              "    }\n",
              "\n",
              "    .dataframe tbody tr th {\n",
              "        vertical-align: top;\n",
              "    }\n",
              "\n",
              "    .dataframe thead th {\n",
              "        text-align: right;\n",
              "    }\n",
              "</style>\n",
              "<table border=\"1\" class=\"dataframe\">\n",
              "  <thead>\n",
              "    <tr style=\"text-align: right;\">\n",
              "      <th></th>\n",
              "      <th>PassengerId</th>\n",
              "      <th>Survived</th>\n",
              "      <th>Pclass</th>\n",
              "      <th>Name</th>\n",
              "      <th>Sex</th>\n",
              "      <th>Age</th>\n",
              "      <th>SibSp</th>\n",
              "      <th>Parch</th>\n",
              "      <th>Ticket</th>\n",
              "      <th>Fare</th>\n",
              "      <th>Cabin</th>\n",
              "      <th>Embarked</th>\n",
              "    </tr>\n",
              "  </thead>\n",
              "  <tbody>\n",
              "    <tr>\n",
              "      <th>0</th>\n",
              "      <td>1</td>\n",
              "      <td>0</td>\n",
              "      <td>3</td>\n",
              "      <td>Braund, Mr. Owen Harris</td>\n",
              "      <td>male</td>\n",
              "      <td>22.0</td>\n",
              "      <td>1</td>\n",
              "      <td>0</td>\n",
              "      <td>A/5 21171</td>\n",
              "      <td>7.2500</td>\n",
              "      <td>NaN</td>\n",
              "      <td>S</td>\n",
              "    </tr>\n",
              "    <tr>\n",
              "      <th>1</th>\n",
              "      <td>2</td>\n",
              "      <td>1</td>\n",
              "      <td>1</td>\n",
              "      <td>Cumings, Mrs. John Bradley (Florence Briggs Th...</td>\n",
              "      <td>female</td>\n",
              "      <td>38.0</td>\n",
              "      <td>1</td>\n",
              "      <td>0</td>\n",
              "      <td>PC 17599</td>\n",
              "      <td>71.2833</td>\n",
              "      <td>C85</td>\n",
              "      <td>C</td>\n",
              "    </tr>\n",
              "    <tr>\n",
              "      <th>2</th>\n",
              "      <td>3</td>\n",
              "      <td>1</td>\n",
              "      <td>3</td>\n",
              "      <td>Heikkinen, Miss. Laina</td>\n",
              "      <td>female</td>\n",
              "      <td>26.0</td>\n",
              "      <td>0</td>\n",
              "      <td>0</td>\n",
              "      <td>STON/O2. 3101282</td>\n",
              "      <td>7.9250</td>\n",
              "      <td>NaN</td>\n",
              "      <td>S</td>\n",
              "    </tr>\n",
              "    <tr>\n",
              "      <th>3</th>\n",
              "      <td>4</td>\n",
              "      <td>1</td>\n",
              "      <td>1</td>\n",
              "      <td>Futrelle, Mrs. Jacques Heath (Lily May Peel)</td>\n",
              "      <td>female</td>\n",
              "      <td>35.0</td>\n",
              "      <td>1</td>\n",
              "      <td>0</td>\n",
              "      <td>113803</td>\n",
              "      <td>53.1000</td>\n",
              "      <td>C123</td>\n",
              "      <td>S</td>\n",
              "    </tr>\n",
              "    <tr>\n",
              "      <th>4</th>\n",
              "      <td>5</td>\n",
              "      <td>0</td>\n",
              "      <td>3</td>\n",
              "      <td>Allen, Mr. William Henry</td>\n",
              "      <td>male</td>\n",
              "      <td>35.0</td>\n",
              "      <td>0</td>\n",
              "      <td>0</td>\n",
              "      <td>373450</td>\n",
              "      <td>8.0500</td>\n",
              "      <td>NaN</td>\n",
              "      <td>S</td>\n",
              "    </tr>\n",
              "  </tbody>\n",
              "</table>\n",
              "</div>"
            ],
            "text/plain": [
              "   PassengerId  Survived  Pclass  \\\n",
              "0            1         0       3   \n",
              "1            2         1       1   \n",
              "2            3         1       3   \n",
              "3            4         1       1   \n",
              "4            5         0       3   \n",
              "\n",
              "                                                Name     Sex   Age  SibSp  \\\n",
              "0                            Braund, Mr. Owen Harris    male  22.0      1   \n",
              "1  Cumings, Mrs. John Bradley (Florence Briggs Th...  female  38.0      1   \n",
              "2                             Heikkinen, Miss. Laina  female  26.0      0   \n",
              "3       Futrelle, Mrs. Jacques Heath (Lily May Peel)  female  35.0      1   \n",
              "4                           Allen, Mr. William Henry    male  35.0      0   \n",
              "\n",
              "   Parch            Ticket     Fare Cabin Embarked  \n",
              "0      0         A/5 21171   7.2500   NaN        S  \n",
              "1      0          PC 17599  71.2833   C85        C  \n",
              "2      0  STON/O2. 3101282   7.9250   NaN        S  \n",
              "3      0            113803  53.1000  C123        S  \n",
              "4      0            373450   8.0500   NaN        S  "
            ]
          },
          "metadata": {
            "tags": []
          },
          "execution_count": 120
        }
      ]
    },
    {
      "metadata": {
        "id": "vlNVSuEFc6OG",
        "colab_type": "code",
        "colab": {}
      },
      "cell_type": "code",
      "source": [
        "sns.pairplot(df, hue='Survived')"
      ],
      "execution_count": 0,
      "outputs": []
    },
    {
      "metadata": {
        "id": "7tosQr-1sOoN",
        "colab_type": "code",
        "colab": {}
      },
      "cell_type": "code",
      "source": [
        ""
      ],
      "execution_count": 0,
      "outputs": []
    },
    {
      "metadata": {
        "id": "UhHF9B1vH80G",
        "colab_type": "code",
        "outputId": "198767e8-12ad-4844-a02d-46bebc33726c",
        "colab": {
          "base_uri": "https://localhost:8080/",
          "height": 323
        }
      },
      "cell_type": "code",
      "source": [
        "df.info()"
      ],
      "execution_count": 0,
      "outputs": [
        {
          "output_type": "stream",
          "text": [
            "<class 'pandas.core.frame.DataFrame'>\n",
            "RangeIndex: 891 entries, 0 to 890\n",
            "Data columns (total 12 columns):\n",
            "PassengerId    891 non-null int64\n",
            "Survived       891 non-null int64\n",
            "Pclass         891 non-null int64\n",
            "Name           891 non-null object\n",
            "Sex            891 non-null object\n",
            "Age            714 non-null float64\n",
            "SibSp          891 non-null int64\n",
            "Parch          891 non-null int64\n",
            "Ticket         891 non-null object\n",
            "Fare           891 non-null float64\n",
            "Cabin          204 non-null object\n",
            "Embarked       889 non-null object\n",
            "dtypes: float64(2), int64(5), object(5)\n",
            "memory usage: 83.6+ KB\n"
          ],
          "name": "stdout"
        }
      ]
    },
    {
      "metadata": {
        "id": "Vtvdz3RqIDri",
        "colab_type": "code",
        "outputId": "c140d4ba-d86b-4e66-aafd-135e9392fc09",
        "colab": {
          "base_uri": "https://localhost:8080/",
          "height": 89
        }
      },
      "cell_type": "code",
      "source": [
        "df.Embarked.value_counts()"
      ],
      "execution_count": 0,
      "outputs": [
        {
          "output_type": "execute_result",
          "data": {
            "text/plain": [
              "S    644\n",
              "C    168\n",
              "Q     77\n",
              "Name: Embarked, dtype: int64"
            ]
          },
          "metadata": {
            "tags": []
          },
          "execution_count": 123
        }
      ]
    },
    {
      "metadata": {
        "id": "QlpBb72STNs1",
        "colab_type": "code",
        "outputId": "c2229619-5024-43c3-b9c1-38240c3aabc8",
        "colab": {
          "base_uri": "https://localhost:8080/",
          "height": 323
        }
      },
      "cell_type": "code",
      "source": [
        "df['Embarked'] = df['Embarked'].fillna('S')\n",
        "df['Age']=df['Age'].fillna(df['Age'].mean())\n",
        "df.info()"
      ],
      "execution_count": 0,
      "outputs": [
        {
          "output_type": "stream",
          "text": [
            "<class 'pandas.core.frame.DataFrame'>\n",
            "RangeIndex: 891 entries, 0 to 890\n",
            "Data columns (total 12 columns):\n",
            "PassengerId    891 non-null int64\n",
            "Survived       891 non-null int64\n",
            "Pclass         891 non-null int64\n",
            "Name           891 non-null object\n",
            "Sex            891 non-null object\n",
            "Age            891 non-null float64\n",
            "SibSp          891 non-null int64\n",
            "Parch          891 non-null int64\n",
            "Ticket         891 non-null object\n",
            "Fare           891 non-null float64\n",
            "Cabin          204 non-null object\n",
            "Embarked       891 non-null object\n",
            "dtypes: float64(2), int64(5), object(5)\n",
            "memory usage: 83.6+ KB\n"
          ],
          "name": "stdout"
        }
      ]
    },
    {
      "metadata": {
        "id": "kJmBOiEnFDaM",
        "colab_type": "code",
        "colab": {}
      },
      "cell_type": "code",
      "source": [
        "Fare_scaled = preprocessing.scale(df['Fare'])\n",
        "df['Embarked']=df['Embarked'].map({'S':0,'C':1,'Q':2}).astype(int)\n"
      ],
      "execution_count": 0,
      "outputs": []
    },
    {
      "metadata": {
        "id": "FnZV3qHKZuEE",
        "colab_type": "code",
        "colab": {}
      },
      "cell_type": "code",
      "source": [
        "df['Sex']=df['Sex'].map({'female':0,'male':1}).astype(int)\n"
      ],
      "execution_count": 0,
      "outputs": []
    },
    {
      "metadata": {
        "id": "vYbKhDqpW4ef",
        "colab_type": "code",
        "outputId": "173e9b93-7386-4705-e178-a1bee18af506",
        "colab": {
          "base_uri": "https://localhost:8080/",
          "height": 323
        }
      },
      "cell_type": "code",
      "source": [
        "df.info()"
      ],
      "execution_count": 0,
      "outputs": [
        {
          "output_type": "stream",
          "text": [
            "<class 'pandas.core.frame.DataFrame'>\n",
            "RangeIndex: 891 entries, 0 to 890\n",
            "Data columns (total 12 columns):\n",
            "PassengerId    891 non-null int64\n",
            "Survived       891 non-null int64\n",
            "Pclass         891 non-null int64\n",
            "Name           891 non-null object\n",
            "Sex            891 non-null int64\n",
            "Age            891 non-null float64\n",
            "SibSp          891 non-null int64\n",
            "Parch          891 non-null int64\n",
            "Ticket         891 non-null object\n",
            "Fare           891 non-null float64\n",
            "Cabin          204 non-null object\n",
            "Embarked       891 non-null int64\n",
            "dtypes: float64(2), int64(7), object(3)\n",
            "memory usage: 83.6+ KB\n"
          ],
          "name": "stdout"
        }
      ]
    },
    {
      "metadata": {
        "id": "GyIigXlbE0Po",
        "colab_type": "code",
        "outputId": "216df01e-042f-471c-e7c2-98c603d6762b",
        "colab": {
          "base_uri": "https://localhost:8080/",
          "height": 35
        }
      },
      "cell_type": "code",
      "source": [
        "X=df.drop(['Survived','Name','Ticket','Cabin'],axis=1).values\n",
        "X.shape"
      ],
      "execution_count": 0,
      "outputs": [
        {
          "output_type": "execute_result",
          "data": {
            "text/plain": [
              "(891, 8)"
            ]
          },
          "metadata": {
            "tags": []
          },
          "execution_count": 133
        }
      ]
    },
    {
      "metadata": {
        "id": "51bgaOkeYlUg",
        "colab_type": "code",
        "outputId": "bb0abaf0-b95c-4c69-a092-e6d37efe8e50",
        "colab": {
          "base_uri": "https://localhost:8080/",
          "height": 35
        }
      },
      "cell_type": "code",
      "source": [
        "y = pd.get_dummies(df['Survived']).values\n",
        "y.shape"
      ],
      "execution_count": 0,
      "outputs": [
        {
          "output_type": "execute_result",
          "data": {
            "text/plain": [
              "(891, 2)"
            ]
          },
          "metadata": {
            "tags": []
          },
          "execution_count": 134
        }
      ]
    },
    {
      "metadata": {
        "id": "cDI88urFZG0n",
        "colab_type": "code",
        "colab": {}
      },
      "cell_type": "code",
      "source": [
        "model = Sequential()\n",
        "\n",
        "model.add(Dense(16, input_shape=(8,), activation='relu'))\n",
        "model.add(Dense(2, activation='softmax'))\n",
        "\n",
        "model.compile(optimizer=AdamOptimizer(0.01),\n",
        "             loss='categorical_crossentropy',\n",
        "              metrics=['accuracy'])"
      ],
      "execution_count": 0,
      "outputs": []
    },
    {
      "metadata": {
        "id": "J2bNTnMrZc8N",
        "colab_type": "code",
        "colab": {}
      },
      "cell_type": "code",
      "source": [
        "h = model.fit(X, y, epochs=200, batch_size=16, validation_split=0.2)"
      ],
      "execution_count": 0,
      "outputs": []
    },
    {
      "metadata": {
        "id": "4nRkOZiDh7UT",
        "colab_type": "code",
        "outputId": "92e1cf88-f192-4664-8989-b8c8e5f29f64",
        "colab": {
          "base_uri": "https://localhost:8080/",
          "height": 35
        }
      },
      "cell_type": "code",
      "source": [
        "h.history.keys()"
      ],
      "execution_count": 0,
      "outputs": [
        {
          "output_type": "execute_result",
          "data": {
            "text/plain": [
              "dict_keys(['loss', 'acc', 'val_loss', 'val_acc'])"
            ]
          },
          "metadata": {
            "tags": []
          },
          "execution_count": 137
        }
      ]
    },
    {
      "metadata": {
        "id": "O6z5kxuCh__z",
        "colab_type": "code",
        "outputId": "ac78332e-df0f-4d44-b351-98d0a0c4126a",
        "colab": {
          "base_uri": "https://localhost:8080/",
          "height": 365
        }
      },
      "cell_type": "code",
      "source": [
        "import matplotlib.pyplot as plt\n",
        "plt.plot(h.history['loss'])\n",
        "plt.plot(h.history['val_loss'])"
      ],
      "execution_count": 0,
      "outputs": [
        {
          "output_type": "execute_result",
          "data": {
            "text/plain": [
              "[<matplotlib.lines.Line2D at 0x7fcb576cecc0>]"
            ]
          },
          "metadata": {
            "tags": []
          },
          "execution_count": 138
        },
        {
          "output_type": "display_data",
          "data": {
            "image/png": "[encoded data removed]",
            "text/plain": [
              "<Figure size 576x396 with 1 Axes>"
            ]
          },
          "metadata": {
            "tags": []
          }
        }
      ]
    },
    {
      "metadata": {
        "id": "7ph_DHhjee-_",
        "colab_type": "text"
      },
      "cell_type": "markdown",
      "source": [
        "# MNIST\n",
        "See how well a fully connected Neural Network performs on MNSIT"
      ]
    },
    {
      "metadata": {
        "id": "wumMGZo8KtTW",
        "colab_type": "code",
        "outputId": "a39ab19e-f63f-4770-e1f2-c2ec56d5aae1",
        "colab": {
          "base_uri": "https://localhost:8080/",
          "height": 35
        }
      },
      "cell_type": "code",
      "source": [
        "import keras\n",
        "from keras.datasets import mnist\n",
        "from keras.layers import Dense\n",
        "from keras.models import Sequential\n",
        "from matplotlib import pyplot as plt\n",
        "from random import randint"
      ],
      "execution_count": 0,
      "outputs": [
        {
          "output_type": "stream",
          "text": [
            "Using TensorFlow backend.\n"
          ],
          "name": "stderr"
        }
      ]
    },
    {
      "metadata": {
        "id": "SHxe6N9VOTIA",
        "colab_type": "code",
        "colab": {}
      },
      "cell_type": "code",
      "source": [
        "from tensorflow.train import AdamOptimizer\n",
        "\n",
        "from sklearn.preprocessing import OneHotEncoder"
      ],
      "execution_count": 0,
      "outputs": []
    },
    {
      "metadata": {
        "id": "jaXOhTaUDqtg",
        "colab_type": "code",
        "outputId": "da351e1a-293d-4a8b-fa4a-53fc3d3de85c",
        "colab": {
          "base_uri": "https://localhost:8080/",
          "height": 53
        }
      },
      "cell_type": "code",
      "source": [
        "(x_train, y_train), (x_test, y_test) = mnist.load_data()"
      ],
      "execution_count": 0,
      "outputs": [
        {
          "output_type": "stream",
          "text": [
            "Downloading data from https://s3.amazonaws.com/img-datasets/mnist.npz\n",
            "11493376/11490434 [==============================] - 1s 0us/step\n"
          ],
          "name": "stdout"
        }
      ]
    },
    {
      "metadata": {
        "id": "8SnT9K-3GDMu",
        "colab_type": "code",
        "outputId": "b386ee36-31b1-40fb-aa11-31794ae58ca8",
        "colab": {
          "base_uri": "https://localhost:8080/",
          "height": 53
        }
      },
      "cell_type": "code",
      "source": [
        "import keras\n",
        "from keras.datasets import mnist\n",
        "from keras.layers import Dense\n",
        "from keras.models import Sequential\n",
        "from matplotlib import pyplot as plt\n",
        "from random import randint\n",
        "\n",
        "# Preparing the dataset\n",
        "# Setup train and test splits\n",
        "(x_train, y_train), (x_test, y_test) = mnist.load_data()\n",
        "\n",
        "# Making a copy before flattening for the next code-segment which displays images\n",
        "x_train_drawing = x_train\n",
        "\n",
        "print(x_train.shape)\n",
        "print(y_train.shape)\n"
      ],
      "execution_count": 0,
      "outputs": [
        {
          "output_type": "stream",
          "text": [
            "(60000, 28, 28)\n",
            "(60000,)\n"
          ],
          "name": "stdout"
        }
      ]
    },
    {
      "metadata": {
        "id": "s1d1Gk2kbeGH",
        "colab_type": "code",
        "colab": {}
      },
      "cell_type": "code",
      "source": [
        "# We will build a fully connected neural network,which means our input data \n",
        "# must be a vector. Then we will flatten the images with reshape\n",
        "image_size = 784 # 28 x 28\n",
        "x_train = x_train.reshape(x_train.shape[0], image_size) \n",
        "x_test = x_test.reshape(x_test.shape[0], image_size)\n",
        "\n",
        "# Convert class vectors to binary class matrices\n",
        "num_classes = 10\n",
        "y_train = keras.utils.to_categorical(y_train, num_classes)\n",
        "y_test = keras.utils.to_categorical(y_test, num_classes)"
      ],
      "execution_count": 0,
      "outputs": []
    },
    {
      "metadata": {
        "id": "WV05HC8RKlR2",
        "colab_type": "code",
        "outputId": "d4c69e46-a57d-4733-deb4-57529370b8ce",
        "colab": {
          "base_uri": "https://localhost:8080/",
          "height": 350
        }
      },
      "cell_type": "code",
      "source": [
        "#random choose 8*8=64 images to have a good idea of our datasets.\n",
        "for i in range(64):\n",
        "    ax = plt.subplot(8, 8, i+1)\n",
        "    ax.axis('off')\n",
        "    plt.imshow(x_train_drawing[randint(0, x_train.shape[0])], cmap='Greys')"
      ],
      "execution_count": 0,
      "outputs": [
        {
          "output_type": "display_data",
          "data": {
            "image/png": "[encoded data removed]",
            "text/plain": [
              "<Figure size 576x396 with 64 Axes>"
            ]
          },
          "metadata": {
            "tags": []
          }
        }
      ]
    },
    {
      "metadata": {
        "id": "QJMDBvS-MRol",
        "colab_type": "code",
        "outputId": "34e51c09-d682-438f-d417-bd5aff653931",
        "colab": {
          "base_uri": "https://localhost:8080/",
          "height": 215
        }
      },
      "cell_type": "code",
      "source": [
        "model = Sequential()\n",
        "\n",
        "# The input layer requires the special input_shape parameter which should match\n",
        "# the shape of our training data.\n",
        "model.add(Dense(units=32, activation='sigmoid', input_shape=(image_size,)))\n",
        "model.add(Dense(units=num_classes, activation='softmax'))\n",
        "model.summary()\n"
      ],
      "execution_count": 0,
      "outputs": [
        {
          "output_type": "stream",
          "text": [
            "_________________________________________________________________\n",
            "Layer (type)                 Output Shape              Param #   \n",
            "=================================================================\n",
            "dense_2 (Dense)              (None, 32)                25120     \n",
            "_________________________________________________________________\n",
            "dense_3 (Dense)              (None, 10)                330       \n",
            "=================================================================\n",
            "Total params: 25,450\n",
            "Trainable params: 25,450\n",
            "Non-trainable params: 0\n",
            "_________________________________________________________________\n"
          ],
          "name": "stdout"
        }
      ]
    },
    {
      "metadata": {
        "id": "oaC0DbiSMeDP",
        "colab_type": "code",
        "colab": {}
      },
      "cell_type": "code",
      "source": [
        "model.compile(optimizer='sgd',loss='categorical_crossentropy',metrics=['accuracy'])"
      ],
      "execution_count": 0,
      "outputs": []
    },
    {
      "metadata": {
        "id": "0yIOk0TqP0UC",
        "colab_type": "code",
        "colab": {}
      },
      "cell_type": "code",
      "source": [
        ""
      ],
      "execution_count": 0,
      "outputs": []
    },
    {
      "metadata": {
        "id": "oq8StsPjOcTu",
        "colab_type": "code",
        "outputId": "af96a8a6-9b6e-4410-d9df-4590773a1a79",
        "colab": {
          "base_uri": "https://localhost:8080/",
          "height": 466
        }
      },
      "cell_type": "code",
      "source": [
        "history = model.fit(x_train, y_train, batch_size=128, epochs=5, verbose=False, validation_split=.1)\n",
        "loss, accuracy  = model.evaluate(x_test, y_test, verbose=False)\n",
        "\n",
        "plt.plot(history.history['acc'])\n",
        "plt.plot(history.history['val_acc'])\n",
        "plt.title('model accuracy')\n",
        "plt.ylabel('accuracy')\n",
        "plt.xlabel('epoch')\n",
        "plt.legend(['training', 'validation'], loc='best')\n",
        "plt.show()\n",
        "\n",
        "print('test loss: ', loss)\n",
        "print('test accuracy: ', accuracy)"
      ],
      "execution_count": 0,
      "outputs": [
        {
          "output_type": "stream",
          "text": [
            "WARNING:tensorflow:From /usr/local/lib/python3.6/dist-packages/tensorflow/python/ops/math_ops.py:3066: to_int32 (from tensorflow.python.ops.math_ops) is deprecated and will be removed in a future version.\n",
            "Instructions for updating:\n",
            "Use tf.cast instead.\n"
          ],
          "name": "stdout"
        },
        {
          "output_type": "display_data",
          "data": {
            "image/png": "[encoded data removed]",
            "text/plain": [
              "<Figure size 576x396 with 1 Axes>"
            ]
          },
          "metadata": {
            "tags": []
          }
        },
        {
          "output_type": "stream",
          "text": [
            "test loss:  0.4784633789539337\n",
            "test accuracy:  0.8908\n"
          ],
          "name": "stdout"
        }
      ]
    },
    {
      "metadata": {
        "id": "5LYrJwBDQag3",
        "colab_type": "code",
        "colab": {}
      },
      "cell_type": "code",
      "source": [
        "model.save('my_model.h5')"
      ],
      "execution_count": 0,
      "outputs": []
    },
    {
      "metadata": {
        "id": "H4JpgcQpNo9g",
        "colab_type": "code",
        "colab": {}
      },
      "cell_type": "code",
      "source": [
        ""
      ],
      "execution_count": 0,
      "outputs": []
    }
  ]
}